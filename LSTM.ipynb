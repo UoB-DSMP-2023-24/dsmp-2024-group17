{
 "cells": [
  {
   "cell_type": "code",
   "execution_count": 1,
   "id": "f3108e7a-60c2-4fd7-beff-43c499aab850",
   "metadata": {},
   "outputs": [],
   "source": [
    "import numpy as np\n",
    "import pandas as pd\n",
    "import matplotlib.pyplot as plt\n",
    "from sklearn.preprocessing import MinMaxScaler\n",
    "from tensorflow.keras.models import Sequential\n",
    "from tensorflow.keras.layers import LSTM, Dense\n",
    "from tensorflow.keras.callbacks import EarlyStopping\n",
    "from sklearn.metrics import mean_squared_error"
   ]
  },
  {
   "cell_type": "code",
   "execution_count": 2,
   "id": "7bfb3e54-e82f-4670-bea6-cf8127ba9df6",
   "metadata": {},
   "outputs": [],
   "source": [
    "data = pd.read_csv(\"Clean_UoB_Set01_2025-01-02tapes.csv\")"
   ]
  },
  {
   "cell_type": "code",
   "execution_count": 3,
   "id": "6fc29bd4-c74a-414e-8e4c-4116248adada",
   "metadata": {},
   "outputs": [
    {
     "data": {
      "text/html": [
       "<div>\n",
       "<style scoped>\n",
       "    .dataframe tbody tr th:only-of-type {\n",
       "        vertical-align: middle;\n",
       "    }\n",
       "\n",
       "    .dataframe tbody tr th {\n",
       "        vertical-align: top;\n",
       "    }\n",
       "\n",
       "    .dataframe thead th {\n",
       "        text-align: right;\n",
       "    }\n",
       "</style>\n",
       "<table border=\"1\" class=\"dataframe\">\n",
       "  <thead>\n",
       "    <tr style=\"text-align: right;\">\n",
       "      <th></th>\n",
       "      <th>Time</th>\n",
       "      <th>Weighted_Price</th>\n",
       "      <th>Total_Size</th>\n",
       "      <th>Order_Number</th>\n",
       "    </tr>\n",
       "  </thead>\n",
       "  <tbody>\n",
       "    <tr>\n",
       "      <th>0</th>\n",
       "      <td>10.881</td>\n",
       "      <td>267.000000</td>\n",
       "      <td>1.0</td>\n",
       "      <td>1.0</td>\n",
       "    </tr>\n",
       "    <tr>\n",
       "      <th>1</th>\n",
       "      <td>11.067</td>\n",
       "      <td>269.000000</td>\n",
       "      <td>1.0</td>\n",
       "      <td>1.0</td>\n",
       "    </tr>\n",
       "    <tr>\n",
       "      <th>2</th>\n",
       "      <td>11.222</td>\n",
       "      <td>267.000000</td>\n",
       "      <td>2.0</td>\n",
       "      <td>1.0</td>\n",
       "    </tr>\n",
       "    <tr>\n",
       "      <th>3</th>\n",
       "      <td>12.338</td>\n",
       "      <td>270.000000</td>\n",
       "      <td>2.0</td>\n",
       "      <td>1.0</td>\n",
       "    </tr>\n",
       "    <tr>\n",
       "      <th>4</th>\n",
       "      <td>13.733</td>\n",
       "      <td>267.000000</td>\n",
       "      <td>3.0</td>\n",
       "      <td>1.0</td>\n",
       "    </tr>\n",
       "    <tr>\n",
       "      <th>...</th>\n",
       "      <td>...</td>\n",
       "      <td>...</td>\n",
       "      <td>...</td>\n",
       "      <td>...</td>\n",
       "    </tr>\n",
       "    <tr>\n",
       "      <th>18570</th>\n",
       "      <td>30594.830</td>\n",
       "      <td>285.333333</td>\n",
       "      <td>3.0</td>\n",
       "      <td>2.0</td>\n",
       "    </tr>\n",
       "    <tr>\n",
       "      <th>18571</th>\n",
       "      <td>30596.225</td>\n",
       "      <td>286.000000</td>\n",
       "      <td>1.0</td>\n",
       "      <td>1.0</td>\n",
       "    </tr>\n",
       "    <tr>\n",
       "      <th>18572</th>\n",
       "      <td>30598.085</td>\n",
       "      <td>287.500000</td>\n",
       "      <td>4.0</td>\n",
       "      <td>2.0</td>\n",
       "    </tr>\n",
       "    <tr>\n",
       "      <th>18573</th>\n",
       "      <td>30599.108</td>\n",
       "      <td>292.000000</td>\n",
       "      <td>1.0</td>\n",
       "      <td>1.0</td>\n",
       "    </tr>\n",
       "    <tr>\n",
       "      <th>18574</th>\n",
       "      <td>30599.728</td>\n",
       "      <td>289.000000</td>\n",
       "      <td>2.0</td>\n",
       "      <td>2.0</td>\n",
       "    </tr>\n",
       "  </tbody>\n",
       "</table>\n",
       "<p>18575 rows × 4 columns</p>\n",
       "</div>"
      ],
      "text/plain": [
       "            Time  Weighted_Price  Total_Size  Order_Number\n",
       "0         10.881      267.000000         1.0           1.0\n",
       "1         11.067      269.000000         1.0           1.0\n",
       "2         11.222      267.000000         2.0           1.0\n",
       "3         12.338      270.000000         2.0           1.0\n",
       "4         13.733      267.000000         3.0           1.0\n",
       "...          ...             ...         ...           ...\n",
       "18570  30594.830      285.333333         3.0           2.0\n",
       "18571  30596.225      286.000000         1.0           1.0\n",
       "18572  30598.085      287.500000         4.0           2.0\n",
       "18573  30599.108      292.000000         1.0           1.0\n",
       "18574  30599.728      289.000000         2.0           2.0\n",
       "\n",
       "[18575 rows x 4 columns]"
      ]
     },
     "execution_count": 3,
     "metadata": {},
     "output_type": "execute_result"
    }
   ],
   "source": [
    "data"
   ]
  },
  {
   "cell_type": "code",
   "execution_count": 4,
   "id": "bc202fa3-f54b-4b2d-95b2-19560254a593",
   "metadata": {},
   "outputs": [],
   "source": [
    "data_copy = data[['Time','Weighted_Price']].copy()"
   ]
  },
  {
   "cell_type": "code",
   "execution_count": 5,
   "id": "91a170fd-1e79-4284-8f61-13fa3ddbe188",
   "metadata": {},
   "outputs": [
    {
     "data": {
      "text/html": [
       "<div>\n",
       "<style scoped>\n",
       "    .dataframe tbody tr th:only-of-type {\n",
       "        vertical-align: middle;\n",
       "    }\n",
       "\n",
       "    .dataframe tbody tr th {\n",
       "        vertical-align: top;\n",
       "    }\n",
       "\n",
       "    .dataframe thead th {\n",
       "        text-align: right;\n",
       "    }\n",
       "</style>\n",
       "<table border=\"1\" class=\"dataframe\">\n",
       "  <thead>\n",
       "    <tr style=\"text-align: right;\">\n",
       "      <th></th>\n",
       "      <th>Time</th>\n",
       "      <th>Weighted_Price</th>\n",
       "    </tr>\n",
       "  </thead>\n",
       "  <tbody>\n",
       "    <tr>\n",
       "      <th>0</th>\n",
       "      <td>10.881</td>\n",
       "      <td>267.000000</td>\n",
       "    </tr>\n",
       "    <tr>\n",
       "      <th>1</th>\n",
       "      <td>11.067</td>\n",
       "      <td>269.000000</td>\n",
       "    </tr>\n",
       "    <tr>\n",
       "      <th>2</th>\n",
       "      <td>11.222</td>\n",
       "      <td>267.000000</td>\n",
       "    </tr>\n",
       "    <tr>\n",
       "      <th>3</th>\n",
       "      <td>12.338</td>\n",
       "      <td>270.000000</td>\n",
       "    </tr>\n",
       "    <tr>\n",
       "      <th>4</th>\n",
       "      <td>13.733</td>\n",
       "      <td>267.000000</td>\n",
       "    </tr>\n",
       "    <tr>\n",
       "      <th>...</th>\n",
       "      <td>...</td>\n",
       "      <td>...</td>\n",
       "    </tr>\n",
       "    <tr>\n",
       "      <th>18570</th>\n",
       "      <td>30594.830</td>\n",
       "      <td>285.333333</td>\n",
       "    </tr>\n",
       "    <tr>\n",
       "      <th>18571</th>\n",
       "      <td>30596.225</td>\n",
       "      <td>286.000000</td>\n",
       "    </tr>\n",
       "    <tr>\n",
       "      <th>18572</th>\n",
       "      <td>30598.085</td>\n",
       "      <td>287.500000</td>\n",
       "    </tr>\n",
       "    <tr>\n",
       "      <th>18573</th>\n",
       "      <td>30599.108</td>\n",
       "      <td>292.000000</td>\n",
       "    </tr>\n",
       "    <tr>\n",
       "      <th>18574</th>\n",
       "      <td>30599.728</td>\n",
       "      <td>289.000000</td>\n",
       "    </tr>\n",
       "  </tbody>\n",
       "</table>\n",
       "<p>18575 rows × 2 columns</p>\n",
       "</div>"
      ],
      "text/plain": [
       "            Time  Weighted_Price\n",
       "0         10.881      267.000000\n",
       "1         11.067      269.000000\n",
       "2         11.222      267.000000\n",
       "3         12.338      270.000000\n",
       "4         13.733      267.000000\n",
       "...          ...             ...\n",
       "18570  30594.830      285.333333\n",
       "18571  30596.225      286.000000\n",
       "18572  30598.085      287.500000\n",
       "18573  30599.108      292.000000\n",
       "18574  30599.728      289.000000\n",
       "\n",
       "[18575 rows x 2 columns]"
      ]
     },
     "execution_count": 5,
     "metadata": {},
     "output_type": "execute_result"
    }
   ],
   "source": [
    "data_copy"
   ]
  },
  {
   "cell_type": "code",
   "execution_count": 6,
   "id": "1d74dde7-69b5-4aaf-b18b-98e6b88aa6ca",
   "metadata": {},
   "outputs": [
    {
     "data": {
      "text/plain": [
       "time_bin\n",
       "10-20          7\n",
       "20-30          8\n",
       "30-40          4\n",
       "40-50          7\n",
       "50-60          6\n",
       "              ..\n",
       "30550-30560    6\n",
       "30560-30570    7\n",
       "30570-30580    3\n",
       "30580-30590    9\n",
       "30590-30600    7\n",
       "Name: count, Length: 3059, dtype: int64"
      ]
     },
     "execution_count": 6,
     "metadata": {},
     "output_type": "execute_result"
    }
   ],
   "source": [
    "max_time = data_copy['Time'].max()\n",
    "min_time = data_copy['Time'].min()\n",
    "\n",
    "# Calculate the correct range of bins, ensuring that we include the maximum time\n",
    "# Add 10 to max_time to create a bin that includes the last data point if it falls exactly on a 10-second mark\n",
    "time_bins = range(int(min_time) - (int(min_time) % 10), int(max_time) + 10, 10)\n",
    "\n",
    "# Now we'll bin the data again using the corrected time bins\n",
    "data_copy['time_bin'] = pd.cut(data_copy['Time'], bins=time_bins, right=False)\n",
    "\n",
    "# Calculate the counts for each bin\n",
    "corrected_bin_counts = data_copy['time_bin'].value_counts().sort_index()\n",
    "\n",
    "# Converting the bin counts to a more readable string format\n",
    "readable_corrected_bin_counts = corrected_bin_counts.rename(lambda x: f\"{int(x.left)}-{int(x.right)}\")\n",
    "readable_corrected_bin_counts"
   ]
  },
  {
   "cell_type": "code",
   "execution_count": 7,
   "id": "03260b85-cbfd-493b-86ad-aa756f27df81",
   "metadata": {},
   "outputs": [],
   "source": [
    "def resample_and_adjust_using_original_times(df, target_count):\n",
    "    # Creating a new column 'Time_bin' to convert 'Time' values into 10-second bins\n",
    "    df['Time_bin'] = (df['Time'] // 10 * 10).astype(int)\n",
    "    \n",
    "    all_time_bins = range(df['Time_bin'].min(), df['Time_bin'].max() + 10, 10)\n",
    "    grouped = df.groupby('Time_bin')\n",
    "\n",
    "    new_records = []\n",
    "    last_known_price = None \n",
    "    \n",
    "    # Iterating through all possible time bins\n",
    "    for time_bin in all_time_bins:\n",
    "        # If the current time bin exists within the grouped data\n",
    "        if time_bin in grouped.groups:\n",
    "            group = grouped.get_group(time_bin)\n",
    "            times = group['Time'].values\n",
    "            prices = group['Weighted_Price'].values\n",
    "            # If the prices array is not empty, update the last known price\n",
    "            if len(prices) > 0:\n",
    "                last_known_price = prices[-1]\n",
    "        else:\n",
    "            group = None \n",
    "            \n",
    "        # If the current time bin is empty or has only one price data point\n",
    "        if group is None or len(prices) == 0:\n",
    "            prices = np.full(target_count, last_known_price)\n",
    "            times = np.linspace(time_bin, time_bin + 9, num=target_count)\n",
    "        elif len(prices) == 1:\n",
    "            times = np.linspace(time_bin, time_bin + 9, num=target_count)\n",
    "            prices = np.full(target_count, last_known_price)\n",
    "        else:\n",
    "            # If there are fewer data points than the target count, additional points will be added\n",
    "            while len(prices) < target_count:\n",
    "                time_diffs = np.diff(times)\n",
    "                idx_to_fill = np.argmax(time_diffs)\n",
    "                new_time = (times[idx_to_fill] + times[idx_to_fill + 1]) / 2\n",
    "                new_price = (prices[idx_to_fill] + prices[idx_to_fill + 1]) / 2\n",
    "                times = np.insert(times, idx_to_fill + 1, new_time)\n",
    "                prices = np.insert(prices, idx_to_fill + 1, new_price)\n",
    "            # If there are multiple data points within the time bin, proceed with normal processing\n",
    "            while len(prices) > target_count:\n",
    "                time_diffs = np.diff(times)\n",
    "                idx_to_merge = np.argmin(time_diffs)\n",
    "                new_time = (times[idx_to_merge] + times[idx_to_merge + 1]) / 2\n",
    "                new_price = (prices[idx_to_merge] + prices[idx_to_merge + 1]) / 2\n",
    "                times = np.delete(times, [idx_to_merge, idx_to_merge + 1])\n",
    "                times = np.insert(times, idx_to_merge, new_time)\n",
    "                prices = np.delete(prices, [idx_to_merge, idx_to_merge + 1])\n",
    "                prices = np.insert(prices, idx_to_merge, new_price)\n",
    "         # Add the processed data to the results list          \n",
    "        new_records.extend(zip(times, prices))\n",
    "\n",
    "    new_df = pd.DataFrame(new_records, columns=['Time', 'Weighted_Price'])\n",
    "    new_df.sort_values('Time', inplace=True)\n",
    "    return new_df\n",
    "\n",
    "processed_df = resample_and_adjust_using_original_times(data_copy, 6)"
   ]
  },
  {
   "cell_type": "code",
   "execution_count": 8,
   "id": "fbfa3773-3ee8-4c08-b062-cf8f6b36db9c",
   "metadata": {},
   "outputs": [
    {
     "data": {
      "text/html": [
       "<div>\n",
       "<style scoped>\n",
       "    .dataframe tbody tr th:only-of-type {\n",
       "        vertical-align: middle;\n",
       "    }\n",
       "\n",
       "    .dataframe tbody tr th {\n",
       "        vertical-align: top;\n",
       "    }\n",
       "\n",
       "    .dataframe thead th {\n",
       "        text-align: right;\n",
       "    }\n",
       "</style>\n",
       "<table border=\"1\" class=\"dataframe\">\n",
       "  <thead>\n",
       "    <tr style=\"text-align: right;\">\n",
       "      <th></th>\n",
       "      <th>Time</th>\n",
       "      <th>Weighted_Price</th>\n",
       "    </tr>\n",
       "  </thead>\n",
       "  <tbody>\n",
       "    <tr>\n",
       "      <th>0</th>\n",
       "      <td>10.8810</td>\n",
       "      <td>267.000000</td>\n",
       "    </tr>\n",
       "    <tr>\n",
       "      <th>1</th>\n",
       "      <td>11.1445</td>\n",
       "      <td>268.000000</td>\n",
       "    </tr>\n",
       "    <tr>\n",
       "      <th>2</th>\n",
       "      <td>12.3380</td>\n",
       "      <td>270.000000</td>\n",
       "    </tr>\n",
       "    <tr>\n",
       "      <th>3</th>\n",
       "      <td>13.7330</td>\n",
       "      <td>267.000000</td>\n",
       "    </tr>\n",
       "    <tr>\n",
       "      <th>4</th>\n",
       "      <td>18.3210</td>\n",
       "      <td>265.000000</td>\n",
       "    </tr>\n",
       "    <tr>\n",
       "      <th>...</th>\n",
       "      <td>...</td>\n",
       "      <td>...</td>\n",
       "    </tr>\n",
       "    <tr>\n",
       "      <th>18349</th>\n",
       "      <td>30591.2960</td>\n",
       "      <td>288.250000</td>\n",
       "    </tr>\n",
       "    <tr>\n",
       "      <th>18350</th>\n",
       "      <td>30594.8300</td>\n",
       "      <td>285.333333</td>\n",
       "    </tr>\n",
       "    <tr>\n",
       "      <th>18351</th>\n",
       "      <td>30596.2250</td>\n",
       "      <td>286.000000</td>\n",
       "    </tr>\n",
       "    <tr>\n",
       "      <th>18352</th>\n",
       "      <td>30598.0850</td>\n",
       "      <td>287.500000</td>\n",
       "    </tr>\n",
       "    <tr>\n",
       "      <th>18353</th>\n",
       "      <td>30599.4180</td>\n",
       "      <td>290.500000</td>\n",
       "    </tr>\n",
       "  </tbody>\n",
       "</table>\n",
       "<p>18354 rows × 2 columns</p>\n",
       "</div>"
      ],
      "text/plain": [
       "             Time  Weighted_Price\n",
       "0         10.8810      267.000000\n",
       "1         11.1445      268.000000\n",
       "2         12.3380      270.000000\n",
       "3         13.7330      267.000000\n",
       "4         18.3210      265.000000\n",
       "...           ...             ...\n",
       "18349  30591.2960      288.250000\n",
       "18350  30594.8300      285.333333\n",
       "18351  30596.2250      286.000000\n",
       "18352  30598.0850      287.500000\n",
       "18353  30599.4180      290.500000\n",
       "\n",
       "[18354 rows x 2 columns]"
      ]
     },
     "execution_count": 8,
     "metadata": {},
     "output_type": "execute_result"
    }
   ],
   "source": [
    "processed_df"
   ]
  },
  {
   "cell_type": "code",
   "execution_count": 9,
   "id": "9a6aeecf-faac-4967-b269-746f1c56bbb8",
   "metadata": {},
   "outputs": [],
   "source": [
    "price = processed_df['Weighted_Price'].values.reshape(-1, 1)\n",
    "scaler = MinMaxScaler(feature_range=(0, 1))\n",
    "scaled_data = scaler.fit_transform(price)"
   ]
  },
  {
   "cell_type": "code",
   "execution_count": 10,
   "id": "e07542b8-8502-4271-9031-dbc7eb16e729",
   "metadata": {},
   "outputs": [],
   "source": [
    "def create_dataset(data, time_step, step=6):\n",
    "    X, y = [], []\n",
    "    for i in range(0, len(data)-time_step-6, step):\n",
    "        X.append(data[i:(i+time_step), 0])\n",
    "        y.append(data[(i+time_step):(i+time_step+6), 0])\n",
    "    return np.array(X), np.array(y)"
   ]
  },
  {
   "cell_type": "code",
   "execution_count": 11,
   "id": "757d640c-91e1-411e-99a4-6084f8c80a78",
   "metadata": {},
   "outputs": [],
   "source": [
    "time_step = 360"
   ]
  },
  {
   "cell_type": "code",
   "execution_count": 12,
   "id": "fcc9c994-916b-4841-b833-b48d996d9ca7",
   "metadata": {},
   "outputs": [],
   "source": [
    "X, y = create_dataset(scaled_data, time_step)"
   ]
  },
  {
   "cell_type": "code",
   "execution_count": 15,
   "id": "22836d72-e1be-4c79-bac1-e8d7aa479748",
   "metadata": {},
   "outputs": [],
   "source": [
    "X = X.reshape(X.shape[0], X.shape[1], 1)"
   ]
  },
  {
   "cell_type": "code",
   "execution_count": 17,
   "id": "6fad8eac-449f-4aae-b8db-71ba6a1782e8",
   "metadata": {},
   "outputs": [],
   "source": [
    "split_ratio = 0.8\n",
    "split_index = int(split_ratio * len(X))\n",
    "X_train, X_test = X[:split_index], X[split_index:]\n",
    "y_train, y_test = y[:split_index], y[split_index:]"
   ]
  },
  {
   "cell_type": "code",
   "execution_count": 18,
   "id": "27c7eb9a-0d09-4904-987b-c7489a8886bb",
   "metadata": {},
   "outputs": [
    {
     "name": "stderr",
     "output_type": "stream",
     "text": [
      "D:\\anaconda\\Lib\\site-packages\\keras\\src\\layers\\rnn\\rnn.py:204: UserWarning: Do not pass an `input_shape`/`input_dim` argument to a layer. When using Sequential models, prefer using an `Input(shape)` object as the first layer in the model instead.\n",
      "  super().__init__(**kwargs)\n"
     ]
    }
   ],
   "source": [
    "model = Sequential()\n",
    "model.add(LSTM(units=50, return_sequences=True, input_shape=(X_train.shape[1], 1)))\n",
    "model.add(LSTM(units=50))\n",
    "model.add(Dense(units=6))"
   ]
  },
  {
   "cell_type": "code",
   "execution_count": 19,
   "id": "42248b9d-e8fe-4c30-8041-7b54c0c01567",
   "metadata": {},
   "outputs": [],
   "source": [
    "model.compile(optimizer='adam', loss='mean_squared_error')"
   ]
  },
  {
   "cell_type": "code",
   "execution_count": 20,
   "id": "aed1049b-30c6-4841-a4ae-327690605383",
   "metadata": {},
   "outputs": [],
   "source": [
    "early_stopping = EarlyStopping(\n",
    "    monitor='val_loss', \n",
    "    min_delta=0.001,  \n",
    "    patience=10, \n",
    "    verbose=1,  \n",
    "    mode='min',  \n",
    "    restore_best_weights=True\n",
    ")"
   ]
  },
  {
   "cell_type": "code",
   "execution_count": 21,
   "id": "4122e7d6-f676-41ae-bd6b-d90c0ba3e567",
   "metadata": {},
   "outputs": [
    {
     "name": "stdout",
     "output_type": "stream",
     "text": [
      "Epoch 1/100\n",
      "\u001b[1m38/38\u001b[0m \u001b[32m━━━━━━━━━━━━━━━━━━━━\u001b[0m\u001b[37m\u001b[0m \u001b[1m10s\u001b[0m 188ms/step - loss: 0.2194 - val_loss: 0.0088\n",
      "Epoch 2/100\n",
      "\u001b[1m38/38\u001b[0m \u001b[32m━━━━━━━━━━━━━━━━━━━━\u001b[0m\u001b[37m\u001b[0m \u001b[1m7s\u001b[0m 181ms/step - loss: 0.0076 - val_loss: 0.0061\n",
      "Epoch 3/100\n",
      "\u001b[1m38/38\u001b[0m \u001b[32m━━━━━━━━━━━━━━━━━━━━\u001b[0m\u001b[37m\u001b[0m \u001b[1m7s\u001b[0m 175ms/step - loss: 0.0055 - val_loss: 0.0060\n",
      "Epoch 4/100\n",
      "\u001b[1m38/38\u001b[0m \u001b[32m━━━━━━━━━━━━━━━━━━━━\u001b[0m\u001b[37m\u001b[0m \u001b[1m7s\u001b[0m 177ms/step - loss: 0.0055 - val_loss: 0.0061\n",
      "Epoch 5/100\n",
      "\u001b[1m38/38\u001b[0m \u001b[32m━━━━━━━━━━━━━━━━━━━━\u001b[0m\u001b[37m\u001b[0m \u001b[1m7s\u001b[0m 178ms/step - loss: 0.0056 - val_loss: 0.0060\n",
      "Epoch 6/100\n",
      "\u001b[1m38/38\u001b[0m \u001b[32m━━━━━━━━━━━━━━━━━━━━\u001b[0m\u001b[37m\u001b[0m \u001b[1m7s\u001b[0m 175ms/step - loss: 0.0057 - val_loss: 0.0065\n",
      "Epoch 7/100\n",
      "\u001b[1m38/38\u001b[0m \u001b[32m━━━━━━━━━━━━━━━━━━━━\u001b[0m\u001b[37m\u001b[0m \u001b[1m7s\u001b[0m 177ms/step - loss: 0.0057 - val_loss: 0.0058\n",
      "Epoch 8/100\n",
      "\u001b[1m38/38\u001b[0m \u001b[32m━━━━━━━━━━━━━━━━━━━━\u001b[0m\u001b[37m\u001b[0m \u001b[1m7s\u001b[0m 176ms/step - loss: 0.0054 - val_loss: 0.0058\n",
      "Epoch 9/100\n",
      "\u001b[1m38/38\u001b[0m \u001b[32m━━━━━━━━━━━━━━━━━━━━\u001b[0m\u001b[37m\u001b[0m \u001b[1m7s\u001b[0m 183ms/step - loss: 0.0055 - val_loss: 0.0058\n",
      "Epoch 10/100\n",
      "\u001b[1m38/38\u001b[0m \u001b[32m━━━━━━━━━━━━━━━━━━━━\u001b[0m\u001b[37m\u001b[0m \u001b[1m7s\u001b[0m 171ms/step - loss: 0.0056 - val_loss: 0.0059\n",
      "Epoch 11/100\n",
      "\u001b[1m38/38\u001b[0m \u001b[32m━━━━━━━━━━━━━━━━━━━━\u001b[0m\u001b[37m\u001b[0m \u001b[1m7s\u001b[0m 182ms/step - loss: 0.0054 - val_loss: 0.0058\n",
      "Epoch 12/100\n",
      "\u001b[1m38/38\u001b[0m \u001b[32m━━━━━━━━━━━━━━━━━━━━\u001b[0m\u001b[37m\u001b[0m \u001b[1m7s\u001b[0m 187ms/step - loss: 0.0054 - val_loss: 0.0062\n",
      "Epoch 12: early stopping\n",
      "Restoring model weights from the end of the best epoch: 2.\n"
     ]
    }
   ],
   "source": [
    "history = model.fit(X_train, y_train, epochs=100, batch_size=64, validation_data=(X_test, y_test), callbacks=[early_stopping])"
   ]
  },
  {
   "cell_type": "code",
   "execution_count": 22,
   "id": "3accfa89-5d2a-454d-9be2-7a1f1122d27e",
   "metadata": {},
   "outputs": [
    {
     "data": {
      "image/png": "[encoded data removed]",
      "text/plain": [
       "<Figure size 640x480 with 1 Axes>"
      ]
     },
     "metadata": {},
     "output_type": "display_data"
    }
   ],
   "source": [
    "# Plot training and validation loss\n",
    "plt.plot(history.history['loss'], label='Training Loss')  # Add label for training loss plot\n",
    "plt.plot(history.history['val_loss'], label='Validation Loss')  # Add label for validation loss plot\n",
    "plt.xlabel('Epoch')\n",
    "plt.ylabel('Loss')\n",
    "plt.legend()  # This line creates the legend based on the provided labels\n",
    "plt.title('Model Loss')  # Set the title of the plot\n",
    "plt.show()"
   ]
  },
  {
   "cell_type": "code",
   "execution_count": 23,
   "id": "f1027027-5e43-4131-a7d3-cae304f07380",
   "metadata": {},
   "outputs": [
    {
     "name": "stdout",
     "output_type": "stream",
     "text": [
      "\u001b[1m19/19\u001b[0m \u001b[32m━━━━━━━━━━━━━━━━━━━━\u001b[0m\u001b[37m\u001b[0m \u001b[1m1s\u001b[0m 65ms/step\n"
     ]
    }
   ],
   "source": [
    "predictions = model.predict(X_test)\n",
    "predictions = scaler.inverse_transform(predictions)  # Inverse scaling"
   ]
  },
  {
   "cell_type": "code",
   "execution_count": 24,
   "id": "76a7271f-ba82-47cf-bd0a-2e895dfd6e06",
   "metadata": {},
   "outputs": [
    {
     "data": {
      "text/plain": [
       "array([[280.31012, 280.94223, 280.53586, 280.51688, 279.52582, 280.58325],\n",
       "       [279.82733, 280.3104 , 280.21378, 280.01013, 279.0404 , 280.14117],\n",
       "       [280.97256, 281.03174, 281.24503, 281.0744 , 280.56494, 281.35184],\n",
       "       ...,\n",
       "       [289.32938, 289.47534, 289.24142, 289.6886 , 289.3926 , 289.83417],\n",
       "       [289.90683, 289.73605, 289.70193, 290.17874, 290.2027 , 290.4855 ],\n",
       "       [289.94275, 289.85538, 289.63336, 290.21436, 290.2174 , 290.4594 ]],\n",
       "      dtype=float32)"
      ]
     },
     "execution_count": 24,
     "metadata": {},
     "output_type": "execute_result"
    }
   ],
   "source": [
    "predictions"
   ]
  },
  {
   "cell_type": "code",
   "execution_count": 25,
   "id": "8043fa56-7045-4833-8ec9-f67822feab82",
   "metadata": {},
   "outputs": [
    {
     "data": {
      "text/plain": [
       "array([280.31012, 280.94223, 280.53586, ..., 290.21436, 290.2174 ,\n",
       "       290.4594 ], dtype=float32)"
      ]
     },
     "execution_count": 25,
     "metadata": {},
     "output_type": "execute_result"
    }
   ],
   "source": [
    "pred = predictions.flatten()\n",
    "pred"
   ]
  },
  {
   "cell_type": "code",
   "execution_count": 28,
   "id": "c0ea3265-28dd-47ef-9029-5fba31183095",
   "metadata": {},
   "outputs": [],
   "source": [
    "processed_df['Time'] = pd.to_datetime(processed_df['Time'], unit='s')\n",
    "processed_df.set_index('Time',inplace=True)"
   ]
  },
  {
   "cell_type": "code",
   "execution_count": 38,
   "id": "df931f7e-b5d8-4013-a6e6-1ea245c2a537",
   "metadata": {},
   "outputs": [
    {
     "name": "stdout",
     "output_type": "stream",
     "text": [
      "Root Mean Squared Error: 5.015607722631264\n"
     ]
    }
   ],
   "source": [
    "rmse = np.sqrt(mean_squared_error(processed_df[6*split_index+time_step+6:], pred))\n",
    "print('Root Mean Squared Error:', rmse)"
   ]
  },
  {
   "cell_type": "code",
   "execution_count": 39,
   "id": "d177e883-e585-4a7e-ab98-91d68955a966",
   "metadata": {},
   "outputs": [
    {
     "data": {
      "image/png": "[encoded data removed]",
      "text/plain": [
       "<Figure size 640x480 with 1 Axes>"
      ]
     },
     "metadata": {},
     "output_type": "display_data"
    }
   ],
   "source": [
    "plt.plot(processed_df[6*split_index+time_step+6:].index, processed_df[6*split_index+time_step+6:], label='True Prices')\n",
    "plt.plot(processed_df[6*split_index+time_step+6:].index, pred, label='Predicted Prices')\n",
    "plt.title('Stock Price Prediction')\n",
    "plt.xlabel('Time')\n",
    "plt.ylabel('Stock Price')\n",
    "plt.legend()\n",
    "plt.show()"
   ]
  },
  {
   "cell_type": "code",
   "execution_count": null,
   "id": "a179f0cc-fa73-435e-9d56-c79471f33d87",
   "metadata": {},
   "outputs": [],
   "source": []
  }
 ],
 "metadata": {
  "kernelspec": {
   "display_name": "Python 3 (ipykernel)",
   "language": "python",
   "name": "python3"
  },
  "language_info": {
   "codemirror_mode": {
    "name": "ipython",
    "version": 3
   },
   "file_extension": ".py",
   "mimetype": "text/x-python",
   "name": "python",
   "nbconvert_exporter": "python",
   "pygments_lexer": "ipython3",
   "version": "3.11.7"
  }
 },
 "nbformat": 4,
 "nbformat_minor": 5
}

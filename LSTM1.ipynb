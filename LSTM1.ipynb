{
 "cells": [
  {
   "cell_type": "code",
   "execution_count": 1,
   "id": "fd9c6934-56ae-450c-908b-713be50d9d83",
   "metadata": {},
   "outputs": [],
   "source": [
    "import numpy as np\n",
    "import pandas as pd\n",
    "import matplotlib.pyplot as plt\n",
    "from sklearn.preprocessing import MinMaxScaler\n",
    "from tensorflow.keras.models import Sequential\n",
    "from tensorflow.keras.layers import LSTM, Dense\n",
    "from tensorflow.keras.callbacks import EarlyStopping\n",
    "from sklearn.metrics import mean_squared_error"
   ]
  },
  {
   "cell_type": "code",
   "execution_count": 2,
   "id": "a6513f33-c9ed-4f0b-af24-00f26283da58",
   "metadata": {},
   "outputs": [],
   "source": [
    "data = pd.read_csv(\"Clean_UoB_Set01_2025-01-02tapes.csv\")"
   ]
  },
  {
   "cell_type": "code",
   "execution_count": 3,
   "id": "8884b9b4-f600-4e78-b58b-d9d51d712a36",
   "metadata": {},
   "outputs": [
    {
     "data": {
      "text/html": [
       "<div>\n",
       "<style scoped>\n",
       "    .dataframe tbody tr th:only-of-type {\n",
       "        vertical-align: middle;\n",
       "    }\n",
       "\n",
       "    .dataframe tbody tr th {\n",
       "        vertical-align: top;\n",
       "    }\n",
       "\n",
       "    .dataframe thead th {\n",
       "        text-align: right;\n",
       "    }\n",
       "</style>\n",
       "<table border=\"1\" class=\"dataframe\">\n",
       "  <thead>\n",
       "    <tr style=\"text-align: right;\">\n",
       "      <th></th>\n",
       "      <th>Time</th>\n",
       "      <th>Weighted_Price</th>\n",
       "      <th>Total_Size</th>\n",
       "      <th>Order_Number</th>\n",
       "    </tr>\n",
       "  </thead>\n",
       "  <tbody>\n",
       "    <tr>\n",
       "      <th>0</th>\n",
       "      <td>10.881</td>\n",
       "      <td>267.0</td>\n",
       "      <td>1.0</td>\n",
       "      <td>1.0</td>\n",
       "    </tr>\n",
       "    <tr>\n",
       "      <th>1</th>\n",
       "      <td>11.067</td>\n",
       "      <td>269.0</td>\n",
       "      <td>1.0</td>\n",
       "      <td>1.0</td>\n",
       "    </tr>\n",
       "    <tr>\n",
       "      <th>2</th>\n",
       "      <td>11.222</td>\n",
       "      <td>267.0</td>\n",
       "      <td>2.0</td>\n",
       "      <td>1.0</td>\n",
       "    </tr>\n",
       "    <tr>\n",
       "      <th>3</th>\n",
       "      <td>12.338</td>\n",
       "      <td>270.0</td>\n",
       "      <td>2.0</td>\n",
       "      <td>1.0</td>\n",
       "    </tr>\n",
       "    <tr>\n",
       "      <th>4</th>\n",
       "      <td>13.733</td>\n",
       "      <td>267.0</td>\n",
       "      <td>3.0</td>\n",
       "      <td>1.0</td>\n",
       "    </tr>\n",
       "  </tbody>\n",
       "</table>\n",
       "</div>"
      ],
      "text/plain": [
       "     Time  Weighted_Price  Total_Size  Order_Number\n",
       "0  10.881           267.0         1.0           1.0\n",
       "1  11.067           269.0         1.0           1.0\n",
       "2  11.222           267.0         2.0           1.0\n",
       "3  12.338           270.0         2.0           1.0\n",
       "4  13.733           267.0         3.0           1.0"
      ]
     },
     "execution_count": 3,
     "metadata": {},
     "output_type": "execute_result"
    }
   ],
   "source": [
    "data.head()"
   ]
  },
  {
   "cell_type": "code",
   "execution_count": 4,
   "id": "7e820b68-57a9-46c4-a041-4092e11e7e13",
   "metadata": {},
   "outputs": [],
   "source": [
    "data_copy = data[['Time','Weighted_Price']].copy()"
   ]
  },
  {
   "cell_type": "code",
   "execution_count": 5,
   "id": "d6ee1ae8-73fc-4bf5-bfa3-ff43f87ecd3d",
   "metadata": {},
   "outputs": [
    {
     "data": {
      "text/html": [
       "<div>\n",
       "<style scoped>\n",
       "    .dataframe tbody tr th:only-of-type {\n",
       "        vertical-align: middle;\n",
       "    }\n",
       "\n",
       "    .dataframe tbody tr th {\n",
       "        vertical-align: top;\n",
       "    }\n",
       "\n",
       "    .dataframe thead th {\n",
       "        text-align: right;\n",
       "    }\n",
       "</style>\n",
       "<table border=\"1\" class=\"dataframe\">\n",
       "  <thead>\n",
       "    <tr style=\"text-align: right;\">\n",
       "      <th></th>\n",
       "      <th>Time</th>\n",
       "      <th>Weighted_Price</th>\n",
       "    </tr>\n",
       "  </thead>\n",
       "  <tbody>\n",
       "    <tr>\n",
       "      <th>0</th>\n",
       "      <td>10.881</td>\n",
       "      <td>267.000000</td>\n",
       "    </tr>\n",
       "    <tr>\n",
       "      <th>1</th>\n",
       "      <td>11.067</td>\n",
       "      <td>269.000000</td>\n",
       "    </tr>\n",
       "    <tr>\n",
       "      <th>2</th>\n",
       "      <td>11.222</td>\n",
       "      <td>267.000000</td>\n",
       "    </tr>\n",
       "    <tr>\n",
       "      <th>3</th>\n",
       "      <td>12.338</td>\n",
       "      <td>270.000000</td>\n",
       "    </tr>\n",
       "    <tr>\n",
       "      <th>4</th>\n",
       "      <td>13.733</td>\n",
       "      <td>267.000000</td>\n",
       "    </tr>\n",
       "    <tr>\n",
       "      <th>...</th>\n",
       "      <td>...</td>\n",
       "      <td>...</td>\n",
       "    </tr>\n",
       "    <tr>\n",
       "      <th>18570</th>\n",
       "      <td>30594.830</td>\n",
       "      <td>285.333333</td>\n",
       "    </tr>\n",
       "    <tr>\n",
       "      <th>18571</th>\n",
       "      <td>30596.225</td>\n",
       "      <td>286.000000</td>\n",
       "    </tr>\n",
       "    <tr>\n",
       "      <th>18572</th>\n",
       "      <td>30598.085</td>\n",
       "      <td>287.500000</td>\n",
       "    </tr>\n",
       "    <tr>\n",
       "      <th>18573</th>\n",
       "      <td>30599.108</td>\n",
       "      <td>292.000000</td>\n",
       "    </tr>\n",
       "    <tr>\n",
       "      <th>18574</th>\n",
       "      <td>30599.728</td>\n",
       "      <td>289.000000</td>\n",
       "    </tr>\n",
       "  </tbody>\n",
       "</table>\n",
       "<p>18575 rows × 2 columns</p>\n",
       "</div>"
      ],
      "text/plain": [
       "            Time  Weighted_Price\n",
       "0         10.881      267.000000\n",
       "1         11.067      269.000000\n",
       "2         11.222      267.000000\n",
       "3         12.338      270.000000\n",
       "4         13.733      267.000000\n",
       "...          ...             ...\n",
       "18570  30594.830      285.333333\n",
       "18571  30596.225      286.000000\n",
       "18572  30598.085      287.500000\n",
       "18573  30599.108      292.000000\n",
       "18574  30599.728      289.000000\n",
       "\n",
       "[18575 rows x 2 columns]"
      ]
     },
     "execution_count": 5,
     "metadata": {},
     "output_type": "execute_result"
    }
   ],
   "source": [
    "data_copy"
   ]
  },
  {
   "cell_type": "code",
   "execution_count": 6,
   "id": "d4573d6d-1fd4-4bb4-b9a3-3219b8c517b6",
   "metadata": {},
   "outputs": [
    {
     "data": {
      "text/plain": [
       "time_bin\n",
       "10-20          7\n",
       "20-30          8\n",
       "30-40          4\n",
       "40-50          7\n",
       "50-60          6\n",
       "              ..\n",
       "30550-30560    6\n",
       "30560-30570    7\n",
       "30570-30580    3\n",
       "30580-30590    9\n",
       "30590-30600    7\n",
       "Name: count, Length: 3059, dtype: int64"
      ]
     },
     "execution_count": 6,
     "metadata": {},
     "output_type": "execute_result"
    }
   ],
   "source": [
    "max_time = data_copy['Time'].max()\n",
    "min_time = data_copy['Time'].min()\n",
    "\n",
    "# Calculate the correct range of bins, ensuring that we include the maximum time\n",
    "# Add 10 to max_time to create a bin that includes the last data point if it falls exactly on a 10-second mark\n",
    "time_bins = range(int(min_time) - (int(min_time) % 10), int(max_time) + 10, 10)\n",
    "\n",
    "# Now we'll bin the data again using the corrected time bins\n",
    "data_copy['time_bin'] = pd.cut(data_copy['Time'], bins=time_bins, right=False)\n",
    "\n",
    "# Calculate the counts for each bin\n",
    "corrected_bin_counts = data_copy['time_bin'].value_counts().sort_index()\n",
    "\n",
    "# Converting the bin counts to a more readable string format\n",
    "readable_corrected_bin_counts = corrected_bin_counts.rename(lambda x: f\"{int(x.left)}-{int(x.right)}\")\n",
    "readable_corrected_bin_counts"
   ]
  },
  {
   "cell_type": "code",
   "execution_count": 7,
   "id": "f5a43997-bf4d-463d-a916-4aa5f2c7e6eb",
   "metadata": {},
   "outputs": [],
   "source": [
    "def resample_and_adjust_using_original_times(df, target_count):\n",
    "    # Creating a new column 'Time_bin' to convert 'Time' values into 10-second bins\n",
    "    df['Time_bin'] = (df['Time'] // 10 * 10).astype(int)\n",
    "    \n",
    "    all_time_bins = range(df['Time_bin'].min(), df['Time_bin'].max() + 10, 10)\n",
    "    grouped = df.groupby('Time_bin')\n",
    "\n",
    "    new_records = []\n",
    "    last_known_price = None \n",
    "    \n",
    "    # Iterating through all possible time bins\n",
    "    for time_bin in all_time_bins:\n",
    "        # If the current time bin exists within the grouped data\n",
    "        if time_bin in grouped.groups:\n",
    "            group = grouped.get_group(time_bin)\n",
    "            times = group['Time'].values\n",
    "            prices = group['Weighted_Price'].values\n",
    "            # If the prices array is not empty, update the last known price\n",
    "            if len(prices) > 0:\n",
    "                last_known_price = prices[-1]\n",
    "        else:\n",
    "            group = None \n",
    "            \n",
    "        # If the current time bin is empty or has only one price data point\n",
    "        if group is None or len(prices) == 0:\n",
    "            prices = np.full(target_count, last_known_price)\n",
    "            times = np.linspace(time_bin, time_bin + 9, num=target_count)\n",
    "        elif len(prices) == 1:\n",
    "            times = np.linspace(time_bin, time_bin + 9, num=target_count)\n",
    "            prices = np.full(target_count, last_known_price)\n",
    "        else:\n",
    "            # If there are fewer data points than the target count, additional points will be added\n",
    "            while len(prices) < target_count:\n",
    "                time_diffs = np.diff(times)\n",
    "                idx_to_fill = np.argmax(time_diffs)\n",
    "                new_time = (times[idx_to_fill] + times[idx_to_fill + 1]) / 2\n",
    "                new_price = (prices[idx_to_fill] + prices[idx_to_fill + 1]) / 2\n",
    "                times = np.insert(times, idx_to_fill + 1, new_time)\n",
    "                prices = np.insert(prices, idx_to_fill + 1, new_price)\n",
    "            # If there are multiple data points within the time bin, proceed with normal processing\n",
    "            while len(prices) > target_count:\n",
    "                time_diffs = np.diff(times)\n",
    "                idx_to_merge = np.argmin(time_diffs)\n",
    "                new_time = (times[idx_to_merge] + times[idx_to_merge + 1]) / 2\n",
    "                new_price = (prices[idx_to_merge] + prices[idx_to_merge + 1]) / 2\n",
    "                times = np.delete(times, [idx_to_merge, idx_to_merge + 1])\n",
    "                times = np.insert(times, idx_to_merge, new_time)\n",
    "                prices = np.delete(prices, [idx_to_merge, idx_to_merge + 1])\n",
    "                prices = np.insert(prices, idx_to_merge, new_price)\n",
    "         # Add the processed data to the results list          \n",
    "        new_records.extend(zip(times, prices))\n",
    "\n",
    "    new_df = pd.DataFrame(new_records, columns=['Time', 'Weighted_Price'])\n",
    "    new_df.sort_values('Time', inplace=True)\n",
    "    return new_df\n",
    "\n",
    "processed_df = resample_and_adjust_using_original_times(data_copy, 6)"
   ]
  },
  {
   "cell_type": "code",
   "execution_count": 8,
   "id": "c14985d5-bc41-4bf1-aebc-5c1adf97fbb9",
   "metadata": {},
   "outputs": [
    {
     "data": {
      "text/html": [
       "<div>\n",
       "<style scoped>\n",
       "    .dataframe tbody tr th:only-of-type {\n",
       "        vertical-align: middle;\n",
       "    }\n",
       "\n",
       "    .dataframe tbody tr th {\n",
       "        vertical-align: top;\n",
       "    }\n",
       "\n",
       "    .dataframe thead th {\n",
       "        text-align: right;\n",
       "    }\n",
       "</style>\n",
       "<table border=\"1\" class=\"dataframe\">\n",
       "  <thead>\n",
       "    <tr style=\"text-align: right;\">\n",
       "      <th></th>\n",
       "      <th>Time</th>\n",
       "      <th>Weighted_Price</th>\n",
       "    </tr>\n",
       "  </thead>\n",
       "  <tbody>\n",
       "    <tr>\n",
       "      <th>0</th>\n",
       "      <td>10.8810</td>\n",
       "      <td>267.000000</td>\n",
       "    </tr>\n",
       "    <tr>\n",
       "      <th>1</th>\n",
       "      <td>11.1445</td>\n",
       "      <td>268.000000</td>\n",
       "    </tr>\n",
       "    <tr>\n",
       "      <th>2</th>\n",
       "      <td>12.3380</td>\n",
       "      <td>270.000000</td>\n",
       "    </tr>\n",
       "    <tr>\n",
       "      <th>3</th>\n",
       "      <td>13.7330</td>\n",
       "      <td>267.000000</td>\n",
       "    </tr>\n",
       "    <tr>\n",
       "      <th>4</th>\n",
       "      <td>18.3210</td>\n",
       "      <td>265.000000</td>\n",
       "    </tr>\n",
       "    <tr>\n",
       "      <th>...</th>\n",
       "      <td>...</td>\n",
       "      <td>...</td>\n",
       "    </tr>\n",
       "    <tr>\n",
       "      <th>18349</th>\n",
       "      <td>30591.2960</td>\n",
       "      <td>288.250000</td>\n",
       "    </tr>\n",
       "    <tr>\n",
       "      <th>18350</th>\n",
       "      <td>30594.8300</td>\n",
       "      <td>285.333333</td>\n",
       "    </tr>\n",
       "    <tr>\n",
       "      <th>18351</th>\n",
       "      <td>30596.2250</td>\n",
       "      <td>286.000000</td>\n",
       "    </tr>\n",
       "    <tr>\n",
       "      <th>18352</th>\n",
       "      <td>30598.0850</td>\n",
       "      <td>287.500000</td>\n",
       "    </tr>\n",
       "    <tr>\n",
       "      <th>18353</th>\n",
       "      <td>30599.4180</td>\n",
       "      <td>290.500000</td>\n",
       "    </tr>\n",
       "  </tbody>\n",
       "</table>\n",
       "<p>18354 rows × 2 columns</p>\n",
       "</div>"
      ],
      "text/plain": [
       "             Time  Weighted_Price\n",
       "0         10.8810      267.000000\n",
       "1         11.1445      268.000000\n",
       "2         12.3380      270.000000\n",
       "3         13.7330      267.000000\n",
       "4         18.3210      265.000000\n",
       "...           ...             ...\n",
       "18349  30591.2960      288.250000\n",
       "18350  30594.8300      285.333333\n",
       "18351  30596.2250      286.000000\n",
       "18352  30598.0850      287.500000\n",
       "18353  30599.4180      290.500000\n",
       "\n",
       "[18354 rows x 2 columns]"
      ]
     },
     "execution_count": 8,
     "metadata": {},
     "output_type": "execute_result"
    }
   ],
   "source": [
    "processed_df"
   ]
  },
  {
   "cell_type": "code",
   "execution_count": 9,
   "id": "4e38e81c-3f46-4771-8712-c27741497fb5",
   "metadata": {},
   "outputs": [],
   "source": [
    "price = processed_df['Weighted_Price'].values.reshape(-1, 1)\n",
    "scaler = MinMaxScaler(feature_range=(0, 1))\n",
    "scaled_data = scaler.fit_transform(price)"
   ]
  },
  {
   "cell_type": "code",
   "execution_count": 10,
   "id": "d5857b58-3d3d-416a-a615-7defc48226eb",
   "metadata": {},
   "outputs": [],
   "source": [
    "def create_dataset(data, time_step):\n",
    "    X, y = [], []\n",
    "    for i in range(len(data)-time_step):\n",
    "        X.append(data[i:(i+time_step), 0])\n",
    "        y.append(data[i + time_step, 0])\n",
    "    return np.array(X), np.array(y)"
   ]
  },
  {
   "cell_type": "code",
   "execution_count": 11,
   "id": "fd16fc5b-d2a2-4a08-991f-1d47523778e7",
   "metadata": {},
   "outputs": [],
   "source": [
    "time_step = 100"
   ]
  },
  {
   "cell_type": "code",
   "execution_count": 12,
   "id": "12333eed-f1ac-4b6b-acec-ea45185ffd5b",
   "metadata": {},
   "outputs": [],
   "source": [
    "X, y = create_dataset(scaled_data, time_step)"
   ]
  },
  {
   "cell_type": "code",
   "execution_count": 13,
   "id": "f6278ea1-7aef-4c7d-a38c-c019f4abba49",
   "metadata": {},
   "outputs": [],
   "source": [
    "X = X.reshape(X.shape[0], X.shape[1], 1)"
   ]
  },
  {
   "cell_type": "code",
   "execution_count": 14,
   "id": "add4cd40-eb30-4c53-89de-fa4ddd459701",
   "metadata": {},
   "outputs": [],
   "source": [
    "split_ratio = 0.8\n",
    "split_index = int(split_ratio * len(X))\n",
    "X_train, X_test = X[:split_index], X[split_index:]\n",
    "y_train, y_test = y[:split_index], y[split_index:]"
   ]
  },
  {
   "cell_type": "code",
   "execution_count": 18,
   "id": "dd0eb4f9-b165-41f8-bdc0-f56166b5ee06",
   "metadata": {},
   "outputs": [
    {
     "data": {
      "text/plain": [
       "3651"
      ]
     },
     "execution_count": 18,
     "metadata": {},
     "output_type": "execute_result"
    }
   ],
   "source": [
    "len(X_test)"
   ]
  },
  {
   "cell_type": "code",
   "execution_count": 19,
   "id": "956df511-688a-40cc-a4b0-7cc04f460753",
   "metadata": {},
   "outputs": [
    {
     "name": "stderr",
     "output_type": "stream",
     "text": [
      "D:\\anaconda\\Lib\\site-packages\\keras\\src\\layers\\rnn\\rnn.py:204: UserWarning: Do not pass an `input_shape`/`input_dim` argument to a layer. When using Sequential models, prefer using an `Input(shape)` object as the first layer in the model instead.\n",
      "  super().__init__(**kwargs)\n"
     ]
    }
   ],
   "source": [
    "model = Sequential()\n",
    "model.add(LSTM(units=50, return_sequences=True, input_shape=(X_train.shape[1], 1)))\n",
    "model.add(LSTM(units=50))\n",
    "model.add(Dense(units=1))"
   ]
  },
  {
   "cell_type": "code",
   "execution_count": 20,
   "id": "5b44a03b-894c-4126-ab13-db314885db8b",
   "metadata": {},
   "outputs": [],
   "source": [
    "model.compile(optimizer='adam', loss='mean_squared_error')"
   ]
  },
  {
   "cell_type": "code",
   "execution_count": 21,
   "id": "38b2128a-664b-40a7-903d-ae5ebef0235c",
   "metadata": {},
   "outputs": [
    {
     "name": "stdout",
     "output_type": "stream",
     "text": [
      "Epoch 1/100\n",
      "\u001b[1m229/229\u001b[0m \u001b[32m━━━━━━━━━━━━━━━━━━━━\u001b[0m\u001b[37m\u001b[0m \u001b[1m15s\u001b[0m 51ms/step - loss: 0.0314 - val_loss: 0.0049\n",
      "Epoch 2/100\n",
      "\u001b[1m229/229\u001b[0m \u001b[32m━━━━━━━━━━━━━━━━━━━━\u001b[0m\u001b[37m\u001b[0m \u001b[1m11s\u001b[0m 47ms/step - loss: 0.0046 - val_loss: 0.0045\n",
      "Epoch 3/100\n",
      "\u001b[1m229/229\u001b[0m \u001b[32m━━━━━━━━━━━━━━━━━━━━\u001b[0m\u001b[37m\u001b[0m \u001b[1m11s\u001b[0m 49ms/step - loss: 0.0041 - val_loss: 0.0037\n",
      "Epoch 4/100\n",
      "\u001b[1m229/229\u001b[0m \u001b[32m━━━━━━━━━━━━━━━━━━━━\u001b[0m\u001b[37m\u001b[0m \u001b[1m11s\u001b[0m 50ms/step - loss: 0.0035 - val_loss: 0.0030\n",
      "Epoch 5/100\n",
      "\u001b[1m229/229\u001b[0m \u001b[32m━━━━━━━━━━━━━━━━━━━━\u001b[0m\u001b[37m\u001b[0m \u001b[1m11s\u001b[0m 50ms/step - loss: 0.0031 - val_loss: 0.0033\n",
      "Epoch 6/100\n",
      "\u001b[1m229/229\u001b[0m \u001b[32m━━━━━━━━━━━━━━━━━━━━\u001b[0m\u001b[37m\u001b[0m \u001b[1m12s\u001b[0m 51ms/step - loss: 0.0027 - val_loss: 0.0024\n",
      "Epoch 7/100\n",
      "\u001b[1m229/229\u001b[0m \u001b[32m━━━━━━━━━━━━━━━━━━━━\u001b[0m\u001b[37m\u001b[0m \u001b[1m12s\u001b[0m 54ms/step - loss: 0.0024 - val_loss: 0.0023\n",
      "Epoch 8/100\n",
      "\u001b[1m229/229\u001b[0m \u001b[32m━━━━━━━━━━━━━━━━━━━━\u001b[0m\u001b[37m\u001b[0m \u001b[1m12s\u001b[0m 54ms/step - loss: 0.0024 - val_loss: 0.0028\n",
      "Epoch 9/100\n",
      "\u001b[1m229/229\u001b[0m \u001b[32m━━━━━━━━━━━━━━━━━━━━\u001b[0m\u001b[37m\u001b[0m \u001b[1m13s\u001b[0m 57ms/step - loss: 0.0023 - val_loss: 0.0024\n",
      "Epoch 10/100\n",
      "\u001b[1m229/229\u001b[0m \u001b[32m━━━━━━━━━━━━━━━━━━━━\u001b[0m\u001b[37m\u001b[0m \u001b[1m14s\u001b[0m 61ms/step - loss: 0.0024 - val_loss: 0.0023\n",
      "Epoch 11/100\n",
      "\u001b[1m229/229\u001b[0m \u001b[32m━━━━━━━━━━━━━━━━━━━━\u001b[0m\u001b[37m\u001b[0m \u001b[1m13s\u001b[0m 57ms/step - loss: 0.0024 - val_loss: 0.0023\n",
      "Epoch 12/100\n",
      "\u001b[1m229/229\u001b[0m \u001b[32m━━━━━━━━━━━━━━━━━━━━\u001b[0m\u001b[37m\u001b[0m \u001b[1m13s\u001b[0m 55ms/step - loss: 0.0024 - val_loss: 0.0023\n",
      "Epoch 13/100\n",
      "\u001b[1m229/229\u001b[0m \u001b[32m━━━━━━━━━━━━━━━━━━━━\u001b[0m\u001b[37m\u001b[0m \u001b[1m13s\u001b[0m 56ms/step - loss: 0.0024 - val_loss: 0.0023\n",
      "Epoch 14/100\n",
      "\u001b[1m229/229\u001b[0m \u001b[32m━━━━━━━━━━━━━━━━━━━━\u001b[0m\u001b[37m\u001b[0m \u001b[1m13s\u001b[0m 55ms/step - loss: 0.0024 - val_loss: 0.0023\n",
      "Epoch 15/100\n",
      "\u001b[1m229/229\u001b[0m \u001b[32m━━━━━━━━━━━━━━━━━━━━\u001b[0m\u001b[37m\u001b[0m \u001b[1m12s\u001b[0m 54ms/step - loss: 0.0023 - val_loss: 0.0023\n",
      "Epoch 16/100\n",
      "\u001b[1m229/229\u001b[0m \u001b[32m━━━━━━━━━━━━━━━━━━━━\u001b[0m\u001b[37m\u001b[0m \u001b[1m12s\u001b[0m 53ms/step - loss: 0.0023 - val_loss: 0.0025\n",
      "Epoch 17/100\n",
      "\u001b[1m229/229\u001b[0m \u001b[32m━━━━━━━━━━━━━━━━━━━━\u001b[0m\u001b[37m\u001b[0m \u001b[1m13s\u001b[0m 55ms/step - loss: 0.0024 - val_loss: 0.0030\n",
      "Epoch 18/100\n",
      "\u001b[1m229/229\u001b[0m \u001b[32m━━━━━━━━━━━━━━━━━━━━\u001b[0m\u001b[37m\u001b[0m \u001b[1m13s\u001b[0m 55ms/step - loss: 0.0024 - val_loss: 0.0024\n",
      "Epoch 19/100\n",
      "\u001b[1m229/229\u001b[0m \u001b[32m━━━━━━━━━━━━━━━━━━━━\u001b[0m\u001b[37m\u001b[0m \u001b[1m13s\u001b[0m 55ms/step - loss: 0.0024 - val_loss: 0.0025\n",
      "Epoch 20/100\n",
      "\u001b[1m229/229\u001b[0m \u001b[32m━━━━━━━━━━━━━━━━━━━━\u001b[0m\u001b[37m\u001b[0m \u001b[1m12s\u001b[0m 53ms/step - loss: 0.0023 - val_loss: 0.0024\n",
      "Epoch 21/100\n",
      "\u001b[1m229/229\u001b[0m \u001b[32m━━━━━━━━━━━━━━━━━━━━\u001b[0m\u001b[37m\u001b[0m \u001b[1m13s\u001b[0m 55ms/step - loss: 0.0023 - val_loss: 0.0024\n",
      "Epoch 22/100\n",
      "\u001b[1m229/229\u001b[0m \u001b[32m━━━━━━━━━━━━━━━━━━━━\u001b[0m\u001b[37m\u001b[0m \u001b[1m12s\u001b[0m 54ms/step - loss: 0.0023 - val_loss: 0.0023\n",
      "Epoch 23/100\n",
      "\u001b[1m229/229\u001b[0m \u001b[32m━━━━━━━━━━━━━━━━━━━━\u001b[0m\u001b[37m\u001b[0m \u001b[1m13s\u001b[0m 56ms/step - loss: 0.0023 - val_loss: 0.0023\n",
      "Epoch 24/100\n",
      "\u001b[1m229/229\u001b[0m \u001b[32m━━━━━━━━━━━━━━━━━━━━\u001b[0m\u001b[37m\u001b[0m \u001b[1m13s\u001b[0m 56ms/step - loss: 0.0023 - val_loss: 0.0023\n",
      "Epoch 25/100\n",
      "\u001b[1m229/229\u001b[0m \u001b[32m━━━━━━━━━━━━━━━━━━━━\u001b[0m\u001b[37m\u001b[0m \u001b[1m12s\u001b[0m 54ms/step - loss: 0.0023 - val_loss: 0.0023\n",
      "Epoch 26/100\n",
      "\u001b[1m229/229\u001b[0m \u001b[32m━━━━━━━━━━━━━━━━━━━━\u001b[0m\u001b[37m\u001b[0m \u001b[1m13s\u001b[0m 55ms/step - loss: 0.0022 - val_loss: 0.0024\n",
      "Epoch 27/100\n",
      "\u001b[1m229/229\u001b[0m \u001b[32m━━━━━━━━━━━━━━━━━━━━\u001b[0m\u001b[37m\u001b[0m \u001b[1m13s\u001b[0m 56ms/step - loss: 0.0023 - val_loss: 0.0025\n",
      "Epoch 28/100\n",
      "\u001b[1m229/229\u001b[0m \u001b[32m━━━━━━━━━━━━━━━━━━━━\u001b[0m\u001b[37m\u001b[0m \u001b[1m13s\u001b[0m 57ms/step - loss: 0.0024 - val_loss: 0.0026\n",
      "Epoch 29/100\n",
      "\u001b[1m229/229\u001b[0m \u001b[32m━━━━━━━━━━━━━━━━━━━━\u001b[0m\u001b[37m\u001b[0m \u001b[1m13s\u001b[0m 57ms/step - loss: 0.0024 - val_loss: 0.0023\n",
      "Epoch 30/100\n",
      "\u001b[1m229/229\u001b[0m \u001b[32m━━━━━━━━━━━━━━━━━━━━\u001b[0m\u001b[37m\u001b[0m \u001b[1m13s\u001b[0m 56ms/step - loss: 0.0023 - val_loss: 0.0023\n",
      "Epoch 31/100\n",
      "\u001b[1m229/229\u001b[0m \u001b[32m━━━━━━━━━━━━━━━━━━━━\u001b[0m\u001b[37m\u001b[0m \u001b[1m13s\u001b[0m 56ms/step - loss: 0.0023 - val_loss: 0.0024\n",
      "Epoch 32/100\n",
      "\u001b[1m229/229\u001b[0m \u001b[32m━━━━━━━━━━━━━━━━━━━━\u001b[0m\u001b[37m\u001b[0m \u001b[1m14s\u001b[0m 59ms/step - loss: 0.0025 - val_loss: 0.0023\n",
      "Epoch 33/100\n",
      "\u001b[1m229/229\u001b[0m \u001b[32m━━━━━━━━━━━━━━━━━━━━\u001b[0m\u001b[37m\u001b[0m \u001b[1m13s\u001b[0m 57ms/step - loss: 0.0023 - val_loss: 0.0023\n",
      "Epoch 34/100\n",
      "\u001b[1m229/229\u001b[0m \u001b[32m━━━━━━━━━━━━━━━━━━━━\u001b[0m\u001b[37m\u001b[0m \u001b[1m13s\u001b[0m 57ms/step - loss: 0.0023 - val_loss: 0.0024\n",
      "Epoch 35/100\n",
      "\u001b[1m229/229\u001b[0m \u001b[32m━━━━━━━━━━━━━━━━━━━━\u001b[0m\u001b[37m\u001b[0m \u001b[1m13s\u001b[0m 55ms/step - loss: 0.0023 - val_loss: 0.0025\n",
      "Epoch 36/100\n",
      "\u001b[1m229/229\u001b[0m \u001b[32m━━━━━━━━━━━━━━━━━━━━\u001b[0m\u001b[37m\u001b[0m \u001b[1m13s\u001b[0m 55ms/step - loss: 0.0024 - val_loss: 0.0023\n",
      "Epoch 37/100\n",
      "\u001b[1m229/229\u001b[0m \u001b[32m━━━━━━━━━━━━━━━━━━━━\u001b[0m\u001b[37m\u001b[0m \u001b[1m13s\u001b[0m 56ms/step - loss: 0.0024 - val_loss: 0.0023\n",
      "Epoch 38/100\n",
      "\u001b[1m229/229\u001b[0m \u001b[32m━━━━━━━━━━━━━━━━━━━━\u001b[0m\u001b[37m\u001b[0m \u001b[1m13s\u001b[0m 56ms/step - loss: 0.0023 - val_loss: 0.0024\n",
      "Epoch 39/100\n",
      "\u001b[1m229/229\u001b[0m \u001b[32m━━━━━━━━━━━━━━━━━━━━\u001b[0m\u001b[37m\u001b[0m \u001b[1m13s\u001b[0m 56ms/step - loss: 0.0024 - val_loss: 0.0024\n",
      "Epoch 40/100\n",
      "\u001b[1m229/229\u001b[0m \u001b[32m━━━━━━━━━━━━━━━━━━━━\u001b[0m\u001b[37m\u001b[0m \u001b[1m13s\u001b[0m 56ms/step - loss: 0.0023 - val_loss: 0.0024\n",
      "Epoch 41/100\n",
      "\u001b[1m229/229\u001b[0m \u001b[32m━━━━━━━━━━━━━━━━━━━━\u001b[0m\u001b[37m\u001b[0m \u001b[1m13s\u001b[0m 55ms/step - loss: 0.0024 - val_loss: 0.0025\n",
      "Epoch 42/100\n",
      "\u001b[1m229/229\u001b[0m \u001b[32m━━━━━━━━━━━━━━━━━━━━\u001b[0m\u001b[37m\u001b[0m \u001b[1m13s\u001b[0m 56ms/step - loss: 0.0023 - val_loss: 0.0023\n",
      "Epoch 43/100\n",
      "\u001b[1m229/229\u001b[0m \u001b[32m━━━━━━━━━━━━━━━━━━━━\u001b[0m\u001b[37m\u001b[0m \u001b[1m13s\u001b[0m 56ms/step - loss: 0.0023 - val_loss: 0.0023\n",
      "Epoch 44/100\n",
      "\u001b[1m229/229\u001b[0m \u001b[32m━━━━━━━━━━━━━━━━━━━━\u001b[0m\u001b[37m\u001b[0m \u001b[1m13s\u001b[0m 56ms/step - loss: 0.0024 - val_loss: 0.0024\n",
      "Epoch 45/100\n",
      "\u001b[1m229/229\u001b[0m \u001b[32m━━━━━━━━━━━━━━━━━━━━\u001b[0m\u001b[37m\u001b[0m \u001b[1m12s\u001b[0m 54ms/step - loss: 0.0024 - val_loss: 0.0024\n",
      "Epoch 46/100\n",
      "\u001b[1m229/229\u001b[0m \u001b[32m━━━━━━━━━━━━━━━━━━━━\u001b[0m\u001b[37m\u001b[0m \u001b[1m13s\u001b[0m 55ms/step - loss: 0.0024 - val_loss: 0.0024\n",
      "Epoch 47/100\n",
      "\u001b[1m229/229\u001b[0m \u001b[32m━━━━━━━━━━━━━━━━━━━━\u001b[0m\u001b[37m\u001b[0m \u001b[1m13s\u001b[0m 55ms/step - loss: 0.0023 - val_loss: 0.0023\n",
      "Epoch 48/100\n",
      "\u001b[1m229/229\u001b[0m \u001b[32m━━━━━━━━━━━━━━━━━━━━\u001b[0m\u001b[37m\u001b[0m \u001b[1m13s\u001b[0m 55ms/step - loss: 0.0023 - val_loss: 0.0029\n",
      "Epoch 49/100\n",
      "\u001b[1m229/229\u001b[0m \u001b[32m━━━━━━━━━━━━━━━━━━━━\u001b[0m\u001b[37m\u001b[0m \u001b[1m13s\u001b[0m 55ms/step - loss: 0.0023 - val_loss: 0.0023\n",
      "Epoch 50/100\n",
      "\u001b[1m229/229\u001b[0m \u001b[32m━━━━━━━━━━━━━━━━━━━━\u001b[0m\u001b[37m\u001b[0m \u001b[1m12s\u001b[0m 54ms/step - loss: 0.0023 - val_loss: 0.0024\n",
      "Epoch 51/100\n",
      "\u001b[1m229/229\u001b[0m \u001b[32m━━━━━━━━━━━━━━━━━━━━\u001b[0m\u001b[37m\u001b[0m \u001b[1m13s\u001b[0m 57ms/step - loss: 0.0023 - val_loss: 0.0023\n",
      "Epoch 52/100\n",
      "\u001b[1m229/229\u001b[0m \u001b[32m━━━━━━━━━━━━━━━━━━━━\u001b[0m\u001b[37m\u001b[0m \u001b[1m13s\u001b[0m 56ms/step - loss: 0.0022 - val_loss: 0.0023\n",
      "Epoch 53/100\n",
      "\u001b[1m229/229\u001b[0m \u001b[32m━━━━━━━━━━━━━━━━━━━━\u001b[0m\u001b[37m\u001b[0m \u001b[1m13s\u001b[0m 56ms/step - loss: 0.0022 - val_loss: 0.0024\n",
      "Epoch 54/100\n",
      "\u001b[1m229/229\u001b[0m \u001b[32m━━━━━━━━━━━━━━━━━━━━\u001b[0m\u001b[37m\u001b[0m \u001b[1m13s\u001b[0m 55ms/step - loss: 0.0023 - val_loss: 0.0023\n",
      "Epoch 55/100\n",
      "\u001b[1m229/229\u001b[0m \u001b[32m━━━━━━━━━━━━━━━━━━━━\u001b[0m\u001b[37m\u001b[0m \u001b[1m12s\u001b[0m 54ms/step - loss: 0.0023 - val_loss: 0.0024\n",
      "Epoch 56/100\n",
      "\u001b[1m229/229\u001b[0m \u001b[32m━━━━━━━━━━━━━━━━━━━━\u001b[0m\u001b[37m\u001b[0m \u001b[1m12s\u001b[0m 54ms/step - loss: 0.0023 - val_loss: 0.0023\n",
      "Epoch 57/100\n",
      "\u001b[1m229/229\u001b[0m \u001b[32m━━━━━━━━━━━━━━━━━━━━\u001b[0m\u001b[37m\u001b[0m \u001b[1m13s\u001b[0m 55ms/step - loss: 0.0023 - val_loss: 0.0023\n",
      "Epoch 58/100\n",
      "\u001b[1m229/229\u001b[0m \u001b[32m━━━━━━━━━━━━━━━━━━━━\u001b[0m\u001b[37m\u001b[0m \u001b[1m13s\u001b[0m 56ms/step - loss: 0.0023 - val_loss: 0.0024\n",
      "Epoch 59/100\n",
      "\u001b[1m229/229\u001b[0m \u001b[32m━━━━━━━━━━━━━━━━━━━━\u001b[0m\u001b[37m\u001b[0m \u001b[1m12s\u001b[0m 54ms/step - loss: 0.0023 - val_loss: 0.0023\n",
      "Epoch 60/100\n",
      "\u001b[1m229/229\u001b[0m \u001b[32m━━━━━━━━━━━━━━━━━━━━\u001b[0m\u001b[37m\u001b[0m \u001b[1m13s\u001b[0m 55ms/step - loss: 0.0023 - val_loss: 0.0023\n",
      "Epoch 61/100\n",
      "\u001b[1m229/229\u001b[0m \u001b[32m━━━━━━━━━━━━━━━━━━━━\u001b[0m\u001b[37m\u001b[0m \u001b[1m13s\u001b[0m 56ms/step - loss: 0.0023 - val_loss: 0.0024\n",
      "Epoch 62/100\n",
      "\u001b[1m229/229\u001b[0m \u001b[32m━━━━━━━━━━━━━━━━━━━━\u001b[0m\u001b[37m\u001b[0m \u001b[1m13s\u001b[0m 55ms/step - loss: 0.0022 - val_loss: 0.0023\n",
      "Epoch 63/100\n",
      "\u001b[1m229/229\u001b[0m \u001b[32m━━━━━━━━━━━━━━━━━━━━\u001b[0m\u001b[37m\u001b[0m \u001b[1m13s\u001b[0m 55ms/step - loss: 0.0023 - val_loss: 0.0025\n",
      "Epoch 64/100\n",
      "\u001b[1m229/229\u001b[0m \u001b[32m━━━━━━━━━━━━━━━━━━━━\u001b[0m\u001b[37m\u001b[0m \u001b[1m12s\u001b[0m 54ms/step - loss: 0.0023 - val_loss: 0.0023\n",
      "Epoch 65/100\n",
      "\u001b[1m229/229\u001b[0m \u001b[32m━━━━━━━━━━━━━━━━━━━━\u001b[0m\u001b[37m\u001b[0m \u001b[1m13s\u001b[0m 55ms/step - loss: 0.0022 - val_loss: 0.0023\n",
      "Epoch 66/100\n",
      "\u001b[1m229/229\u001b[0m \u001b[32m━━━━━━━━━━━━━━━━━━━━\u001b[0m\u001b[37m\u001b[0m \u001b[1m13s\u001b[0m 56ms/step - loss: 0.0023 - val_loss: 0.0023\n",
      "Epoch 67/100\n",
      "\u001b[1m229/229\u001b[0m \u001b[32m━━━━━━━━━━━━━━━━━━━━\u001b[0m\u001b[37m\u001b[0m \u001b[1m13s\u001b[0m 56ms/step - loss: 0.0022 - val_loss: 0.0024\n",
      "Epoch 68/100\n",
      "\u001b[1m229/229\u001b[0m \u001b[32m━━━━━━━━━━━━━━━━━━━━\u001b[0m\u001b[37m\u001b[0m \u001b[1m13s\u001b[0m 55ms/step - loss: 0.0023 - val_loss: 0.0024\n",
      "Epoch 69/100\n",
      "\u001b[1m229/229\u001b[0m \u001b[32m━━━━━━━━━━━━━━━━━━━━\u001b[0m\u001b[37m\u001b[0m \u001b[1m12s\u001b[0m 54ms/step - loss: 0.0023 - val_loss: 0.0024\n",
      "Epoch 70/100\n",
      "\u001b[1m229/229\u001b[0m \u001b[32m━━━━━━━━━━━━━━━━━━━━\u001b[0m\u001b[37m\u001b[0m \u001b[1m13s\u001b[0m 55ms/step - loss: 0.0023 - val_loss: 0.0023\n",
      "Epoch 71/100\n",
      "\u001b[1m229/229\u001b[0m \u001b[32m━━━━━━━━━━━━━━━━━━━━\u001b[0m\u001b[37m\u001b[0m \u001b[1m13s\u001b[0m 55ms/step - loss: 0.0023 - val_loss: 0.0023\n",
      "Epoch 72/100\n",
      "\u001b[1m229/229\u001b[0m \u001b[32m━━━━━━━━━━━━━━━━━━━━\u001b[0m\u001b[37m\u001b[0m \u001b[1m13s\u001b[0m 56ms/step - loss: 0.0023 - val_loss: 0.0023\n",
      "Epoch 73/100\n",
      "\u001b[1m229/229\u001b[0m \u001b[32m━━━━━━━━━━━━━━━━━━━━\u001b[0m\u001b[37m\u001b[0m \u001b[1m13s\u001b[0m 55ms/step - loss: 0.0024 - val_loss: 0.0023\n",
      "Epoch 74/100\n",
      "\u001b[1m229/229\u001b[0m \u001b[32m━━━━━━━━━━━━━━━━━━━━\u001b[0m\u001b[37m\u001b[0m \u001b[1m13s\u001b[0m 55ms/step - loss: 0.0023 - val_loss: 0.0023\n",
      "Epoch 75/100\n",
      "\u001b[1m229/229\u001b[0m \u001b[32m━━━━━━━━━━━━━━━━━━━━\u001b[0m\u001b[37m\u001b[0m \u001b[1m13s\u001b[0m 56ms/step - loss: 0.0023 - val_loss: 0.0023\n",
      "Epoch 76/100\n",
      "\u001b[1m229/229\u001b[0m \u001b[32m━━━━━━━━━━━━━━━━━━━━\u001b[0m\u001b[37m\u001b[0m \u001b[1m13s\u001b[0m 58ms/step - loss: 0.0024 - val_loss: 0.0024\n",
      "Epoch 77/100\n",
      "\u001b[1m229/229\u001b[0m \u001b[32m━━━━━━━━━━━━━━━━━━━━\u001b[0m\u001b[37m\u001b[0m \u001b[1m13s\u001b[0m 55ms/step - loss: 0.0023 - val_loss: 0.0026\n",
      "Epoch 78/100\n",
      "\u001b[1m229/229\u001b[0m \u001b[32m━━━━━━━━━━━━━━━━━━━━\u001b[0m\u001b[37m\u001b[0m \u001b[1m12s\u001b[0m 54ms/step - loss: 0.0023 - val_loss: 0.0023\n",
      "Epoch 79/100\n",
      "\u001b[1m229/229\u001b[0m \u001b[32m━━━━━━━━━━━━━━━━━━━━\u001b[0m\u001b[37m\u001b[0m \u001b[1m12s\u001b[0m 52ms/step - loss: 0.0024 - val_loss: 0.0023\n",
      "Epoch 80/100\n",
      "\u001b[1m229/229\u001b[0m \u001b[32m━━━━━━━━━━━━━━━━━━━━\u001b[0m\u001b[37m\u001b[0m \u001b[1m11s\u001b[0m 50ms/step - loss: 0.0023 - val_loss: 0.0023\n",
      "Epoch 81/100\n",
      "\u001b[1m229/229\u001b[0m \u001b[32m━━━━━━━━━━━━━━━━━━━━\u001b[0m\u001b[37m\u001b[0m \u001b[1m12s\u001b[0m 50ms/step - loss: 0.0023 - val_loss: 0.0023\n",
      "Epoch 82/100\n",
      "\u001b[1m229/229\u001b[0m \u001b[32m━━━━━━━━━━━━━━━━━━━━\u001b[0m\u001b[37m\u001b[0m \u001b[1m11s\u001b[0m 50ms/step - loss: 0.0023 - val_loss: 0.0024\n",
      "Epoch 83/100\n",
      "\u001b[1m229/229\u001b[0m \u001b[32m━━━━━━━━━━━━━━━━━━━━\u001b[0m\u001b[37m\u001b[0m \u001b[1m11s\u001b[0m 50ms/step - loss: 0.0023 - val_loss: 0.0023\n",
      "Epoch 84/100\n",
      "\u001b[1m229/229\u001b[0m \u001b[32m━━━━━━━━━━━━━━━━━━━━\u001b[0m\u001b[37m\u001b[0m \u001b[1m12s\u001b[0m 51ms/step - loss: 0.0024 - val_loss: 0.0023\n",
      "Epoch 85/100\n",
      "\u001b[1m229/229\u001b[0m \u001b[32m━━━━━━━━━━━━━━━━━━━━\u001b[0m\u001b[37m\u001b[0m \u001b[1m12s\u001b[0m 51ms/step - loss: 0.0023 - val_loss: 0.0023\n",
      "Epoch 86/100\n",
      "\u001b[1m229/229\u001b[0m \u001b[32m━━━━━━━━━━━━━━━━━━━━\u001b[0m\u001b[37m\u001b[0m \u001b[1m11s\u001b[0m 50ms/step - loss: 0.0023 - val_loss: 0.0023\n",
      "Epoch 87/100\n",
      "\u001b[1m229/229\u001b[0m \u001b[32m━━━━━━━━━━━━━━━━━━━━\u001b[0m\u001b[37m\u001b[0m \u001b[1m13s\u001b[0m 55ms/step - loss: 0.0023 - val_loss: 0.0023\n",
      "Epoch 88/100\n",
      "\u001b[1m229/229\u001b[0m \u001b[32m━━━━━━━━━━━━━━━━━━━━\u001b[0m\u001b[37m\u001b[0m \u001b[1m12s\u001b[0m 54ms/step - loss: 0.0022 - val_loss: 0.0024\n",
      "Epoch 89/100\n",
      "\u001b[1m229/229\u001b[0m \u001b[32m━━━━━━━━━━━━━━━━━━━━\u001b[0m\u001b[37m\u001b[0m \u001b[1m13s\u001b[0m 56ms/step - loss: 0.0023 - val_loss: 0.0024\n",
      "Epoch 90/100\n",
      "\u001b[1m229/229\u001b[0m \u001b[32m━━━━━━━━━━━━━━━━━━━━\u001b[0m\u001b[37m\u001b[0m \u001b[1m13s\u001b[0m 58ms/step - loss: 0.0023 - val_loss: 0.0023\n",
      "Epoch 91/100\n",
      "\u001b[1m229/229\u001b[0m \u001b[32m━━━━━━━━━━━━━━━━━━━━\u001b[0m\u001b[37m\u001b[0m \u001b[1m12s\u001b[0m 52ms/step - loss: 0.0023 - val_loss: 0.0023\n",
      "Epoch 92/100\n",
      "\u001b[1m229/229\u001b[0m \u001b[32m━━━━━━━━━━━━━━━━━━━━\u001b[0m\u001b[37m\u001b[0m \u001b[1m12s\u001b[0m 51ms/step - loss: 0.0022 - val_loss: 0.0023\n",
      "Epoch 93/100\n",
      "\u001b[1m229/229\u001b[0m \u001b[32m━━━━━━━━━━━━━━━━━━━━\u001b[0m\u001b[37m\u001b[0m \u001b[1m12s\u001b[0m 51ms/step - loss: 0.0022 - val_loss: 0.0025\n",
      "Epoch 94/100\n",
      "\u001b[1m229/229\u001b[0m \u001b[32m━━━━━━━━━━━━━━━━━━━━\u001b[0m\u001b[37m\u001b[0m \u001b[1m11s\u001b[0m 50ms/step - loss: 0.0023 - val_loss: 0.0023\n",
      "Epoch 95/100\n",
      "\u001b[1m229/229\u001b[0m \u001b[32m━━━━━━━━━━━━━━━━━━━━\u001b[0m\u001b[37m\u001b[0m \u001b[1m12s\u001b[0m 51ms/step - loss: 0.0023 - val_loss: 0.0024\n",
      "Epoch 96/100\n",
      "\u001b[1m229/229\u001b[0m \u001b[32m━━━━━━━━━━━━━━━━━━━━\u001b[0m\u001b[37m\u001b[0m \u001b[1m12s\u001b[0m 51ms/step - loss: 0.0023 - val_loss: 0.0023\n",
      "Epoch 97/100\n",
      "\u001b[1m229/229\u001b[0m \u001b[32m━━━━━━━━━━━━━━━━━━━━\u001b[0m\u001b[37m\u001b[0m \u001b[1m12s\u001b[0m 51ms/step - loss: 0.0023 - val_loss: 0.0023\n",
      "Epoch 98/100\n",
      "\u001b[1m229/229\u001b[0m \u001b[32m━━━━━━━━━━━━━━━━━━━━\u001b[0m\u001b[37m\u001b[0m \u001b[1m11s\u001b[0m 49ms/step - loss: 0.0023 - val_loss: 0.0023\n",
      "Epoch 99/100\n",
      "\u001b[1m229/229\u001b[0m \u001b[32m━━━━━━━━━━━━━━━━━━━━\u001b[0m\u001b[37m\u001b[0m \u001b[1m12s\u001b[0m 51ms/step - loss: 0.0023 - val_loss: 0.0024\n",
      "Epoch 100/100\n",
      "\u001b[1m229/229\u001b[0m \u001b[32m━━━━━━━━━━━━━━━━━━━━\u001b[0m\u001b[37m\u001b[0m \u001b[1m12s\u001b[0m 50ms/step - loss: 0.0023 - val_loss: 0.0024\n"
     ]
    }
   ],
   "source": [
    "history = model.fit(X_train, y_train, epochs=100, batch_size=64, validation_data=(X_test, y_test))"
   ]
  },
  {
   "cell_type": "code",
   "execution_count": 22,
   "id": "b0224987-9cc3-4cd6-86ba-ee75758e0b2c",
   "metadata": {},
   "outputs": [
    {
     "data": {
      "image/png": "[encoded data removed]",
      "text/plain": [
       "<Figure size 640x480 with 1 Axes>"
      ]
     },
     "metadata": {},
     "output_type": "display_data"
    }
   ],
   "source": [
    "# Plot training and validation loss\n",
    "plt.plot(history.history['loss'], label='Training Loss')  # Add label for training loss plot\n",
    "plt.plot(history.history['val_loss'], label='Validation Loss')  # Add label for validation loss plot\n",
    "plt.xlabel('Epoch')\n",
    "plt.ylabel('Loss')\n",
    "plt.legend()  # This line creates the legend based on the provided labels\n",
    "plt.title('Model Loss')  # Set the title of the plot\n",
    "plt.show()"
   ]
  },
  {
   "cell_type": "code",
   "execution_count": 23,
   "id": "6b398e1e-6b09-41d9-88dd-f758d2553a83",
   "metadata": {},
   "outputs": [
    {
     "name": "stdout",
     "output_type": "stream",
     "text": [
      "\u001b[1m115/115\u001b[0m \u001b[32m━━━━━━━━━━━━━━━━━━━━\u001b[0m\u001b[37m\u001b[0m \u001b[1m2s\u001b[0m 17ms/step\n"
     ]
    }
   ],
   "source": [
    "predictions = model.predict(X_test)\n",
    "predictions = scaler.inverse_transform(predictions)  # Inverse scaling"
   ]
  },
  {
   "cell_type": "code",
   "execution_count": 25,
   "id": "7494546e-3f26-44b8-aefd-b61615a352fb",
   "metadata": {},
   "outputs": [
    {
     "data": {
      "text/plain": [
       "3651"
      ]
     },
     "execution_count": 25,
     "metadata": {},
     "output_type": "execute_result"
    }
   ],
   "source": [
    "len(predictions)"
   ]
  },
  {
   "cell_type": "code",
   "execution_count": 28,
   "id": "3a16d2e0-c4e5-4ac8-b95d-65fab63be11e",
   "metadata": {},
   "outputs": [
    {
     "name": "stdout",
     "output_type": "stream",
     "text": [
      "Root Mean Squared Error: 2.9197343753405574\n"
     ]
    }
   ],
   "source": [
    "rmse = np.sqrt(mean_squared_error(processed_df[split_index+time_step:], predictions))\n",
    "print('Root Mean Squared Error:', rmse)"
   ]
  },
  {
   "cell_type": "code",
   "execution_count": 27,
   "id": "a8069493-c10f-449f-b52c-9918db15f1f3",
   "metadata": {},
   "outputs": [],
   "source": [
    "processed_df['Time'] = pd.to_datetime(processed_df['Time'], unit='s')\n",
    "processed_df.set_index('Time',inplace=True)"
   ]
  },
  {
   "cell_type": "code",
   "execution_count": 31,
   "id": "eda439bb-3454-4352-a446-2f30b06bc1e5",
   "metadata": {},
   "outputs": [
    {
     "data": {
      "image/png": "[encoded data removed]",
      "text/plain": [
       "<Figure size 640x480 with 1 Axes>"
      ]
     },
     "metadata": {},
     "output_type": "display_data"
    }
   ],
   "source": [
    "plt.plot(processed_df[split_index+time_step:].index, processed_df[split_index+time_step:], label='True Prices')\n",
    "plt.plot(processed_df[split_index+time_step:].index, predictions, label='Predicted Prices')\n",
    "plt.title('Stock Price Prediction')\n",
    "plt.xlabel('Time')\n",
    "plt.ylabel('Stock Price')\n",
    "plt.legend()\n",
    "plt.show()"
   ]
  },
  {
   "cell_type": "code",
   "execution_count": null,
   "id": "6e875e5e-33c2-41fc-9b23-cd41e20c3dc2",
   "metadata": {},
   "outputs": [],
   "source": []
  }
 ],
 "metadata": {
  "kernelspec": {
   "display_name": "Python 3 (ipykernel)",
   "language": "python",
   "name": "python3"
  },
  "language_info": {
   "codemirror_mode": {
    "name": "ipython",
    "version": 3
   },
   "file_extension": ".py",
   "mimetype": "text/x-python",
   "name": "python",
   "nbconvert_exporter": "python",
   "pygments_lexer": "ipython3",
   "version": "3.11.7"
  }
 },
 "nbformat": 4,
 "nbformat_minor": 5
}

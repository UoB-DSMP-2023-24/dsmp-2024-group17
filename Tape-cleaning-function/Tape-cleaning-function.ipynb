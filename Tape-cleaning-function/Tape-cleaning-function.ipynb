{
 "cells": [
  {
   "cell_type": "code",
   "execution_count": 37,
   "id": "0b7f0cbb",
   "metadata": {},
   "outputs": [],
   "source": [
    "import pandas as pd\n",
    "import re\n",
    "import os"
   ]
  },
  {
   "cell_type": "code",
   "execution_count": 33,
   "id": "b5505905",
   "metadata": {},
   "outputs": [],
   "source": [
    "def tap_clean(file_path):\n",
    "    df = pd.read_csv(file_path, header=None, names=['Time', 'Price', 'Size'])\n",
    "    \n",
    "    weighted_df = df.groupby('Time').apply(lambda x: pd.Series({\n",
    "        'Weighted_Price': (x['Price'] * x['Size']).sum() / x['Size'].sum(),\n",
    "        'Total_Size': x['Size'].sum(),\n",
    "        'Order_Number': x.shape[0]\n",
    "    })).reset_index()\n",
    "    \n",
    "    pattern = r'UoB.*?\\.csv'\n",
    "    file_name = re.findall(pattern, file_path)[0]\n",
    "    file_name = \"Clean_\" + file_name\n",
    "    \n",
    "    weighted_df.to_csv(file_name)"
   ]
  },
  {
   "cell_type": "code",
   "execution_count": 60,
   "id": "66705494",
   "metadata": {},
   "outputs": [],
   "source": [
    "def tap_clean_all(directory):\n",
    "    files = os.listdir(directory)\n",
    "    \n",
    "    for file in files:\n",
    "        file_path = os.path.join(directory, file)\n",
    "        tap_clean(file_path)"
   ]
  }
 ],
 "metadata": {
  "kernelspec": {
   "display_name": "Python 3 (ipykernel)",
   "language": "python",
   "name": "python3"
  },
  "language_info": {
   "codemirror_mode": {
    "name": "ipython",
    "version": 3
   },
   "file_extension": ".py",
   "mimetype": "text/x-python",
   "name": "python",
   "nbconvert_exporter": "python",
   "pygments_lexer": "ipython3",
   "version": "3.11.4"
  }
 },
 "nbformat": 4,
 "nbformat_minor": 5
}

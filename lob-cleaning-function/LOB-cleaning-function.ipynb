{
 "cells": [
  {
   "cell_type": "code",
   "execution_count": 14,
   "id": "a2b5cc93",
   "metadata": {},
   "outputs": [],
   "source": [
    "import pandas as pd\n",
    "import numpy as np\n",
    "import re\n",
    "import os\n",
    "import ast"
   ]
  },
  {
   "cell_type": "code",
   "execution_count": 15,
   "id": "778f103d",
   "metadata": {},
   "outputs": [],
   "source": [
    "def parse_line_corrected(line):\n",
    "    line = line.replace('Exch0', \"'Exch0'\")\n",
    "    data = ast.literal_eval(line)\n",
    "    return {\n",
    "        'timestamp': data[0],\n",
    "        'exchange': data[1],\n",
    "        'bids': data[2][0][1],\n",
    "        'asks': data[2][1][1]\n",
    "    }"
   ]
  },
  {
   "cell_type": "code",
   "execution_count": 16,
   "id": "cb74b731",
   "metadata": {},
   "outputs": [],
   "source": [
    "def process_row(row):\n",
    "    bids_sorted = sorted(row['bids'], key=lambda x: x[0], reverse=True)[:2] if row['bids'] else []\n",
    "    asks_sorted = sorted(row['asks'], key=lambda x: x[0])[:2] if row['asks'] else []\n",
    "    return bids_sorted, asks_sorted"
   ]
  },
  {
   "cell_type": "code",
   "execution_count": 17,
   "id": "6f1a607c",
   "metadata": {},
   "outputs": [],
   "source": [
    "def remove_max_bid_outliers(bids, mean_price, std_price, threshold=3):\n",
    "    if not bids:\n",
    "        return True  \n",
    "    # Calculate z-score for the maximum bid price\n",
    "    max_bid_price = max(bid[0] for bid in bids)\n",
    "    z_score = abs(max_bid_price - mean_price) / std_price\n",
    "    \n",
    "    # Return True if the z-score is within the threshold, indicating it's not an outlier\n",
    "    return z_score <= threshold"
   ]
  },
  {
   "cell_type": "code",
   "execution_count": 18,
   "id": "5b7cd9ff",
   "metadata": {},
   "outputs": [],
   "source": [
    "def remove_min_bid_outliers(bids, mean_min_price, std_min_price, threshold=3):\n",
    "    if not bids:\n",
    "        return True\n",
    "    min_bid_price = min(bid[0] for bid in bids)\n",
    "    z_score = (min_bid_price - mean_min_price) / std_min_price\n",
    "    return abs(z_score) <= threshold"
   ]
  },
  {
   "cell_type": "code",
   "execution_count": 19,
   "id": "6fa25720",
   "metadata": {},
   "outputs": [],
   "source": [
    "def remove_min_ask_outliers(asks, mean_price, std_price, threshold=3):\n",
    "    if not asks:\n",
    "        return True  # Keep rows with no asks as they're not outliers\n",
    "    min_ask_price = min(ask[0] for ask in asks)\n",
    "    z_score = (min_ask_price - mean_price) / std_price\n",
    "    return abs(z_score) <= threshold"
   ]
  },
  {
   "cell_type": "code",
   "execution_count": 20,
   "id": "942a7144",
   "metadata": {},
   "outputs": [],
   "source": [
    "def remove_max_ask_outlier(asks, mean_price, std_price, threshold=3):\n",
    "    if not asks:\n",
    "        return True\n",
    "    max_ask_price = max(ask[0] for ask in asks)\n",
    "    z_score = (max_ask_price - mean_price) / std_price\n",
    "    return abs(z_score) <= threshold"
   ]
  },
  {
   "cell_type": "code",
   "execution_count": 21,
   "id": "2bf494a1",
   "metadata": {},
   "outputs": [],
   "source": [
    "def split_bids_asks(row):\n",
    "    # Splitting bids into prices and sizes\n",
    "    bid_price1, bid_size1 = row['bids'][0]\n",
    "    bid_price2, bid_size2 = row['bids'][1]\n",
    "    ask_price1, ask_size1 = row['asks'][0]\n",
    "    ask_price2, ask_size2 = row['asks'][1]  \n",
    "    return pd.Series([bid_price1, bid_price2, bid_size1, bid_size2, ask_price1, ask_price2, ask_size1, ask_size2])"
   ]
  },
  {
   "cell_type": "code",
   "execution_count": 24,
   "id": "9cf8d41d",
   "metadata": {},
   "outputs": [],
   "source": [
    "def lob_clean(file_path):\n",
    "    parsed_data_corrected = []\n",
    "    with open(file_path, 'r') as file:\n",
    "        for line in file:\n",
    "            parsed_data_corrected.append(parse_line_corrected(line))\n",
    "    df_corrected = pd.DataFrame(parsed_data_corrected)\n",
    "    df_corrected = df_corrected[['exchange', 'timestamp', 'bids', 'asks']]\n",
    "    df_corrected[['bids', 'asks']] = df_corrected.apply(lambda row: process_row(row), axis=1, result_type='expand')\n",
    "    df_filtered = (df_corrected[(df_corrected['bids'].apply(len) >= 2) & (df_corrected['asks'].apply(len) >= 2)]).reset_index(drop=True)\n",
    "    # Calculate the mean and standard deviation for the maximum bid prices\n",
    "    max_bid_prices = [max(bid[0] for bid in bids_list) for bids_list in df_filtered['bids'] if bids_list]\n",
    "    mean_max_price = np.mean(max_bid_prices)\n",
    "    std_max_price = np.std(max_bid_prices)\n",
    "\n",
    "    # Filter the DataFrame rows\n",
    "    df_filtered_no_max_outliers = df_filtered[df_filtered['bids'].apply(\n",
    "        lambda bids: remove_max_bid_outliers(bids, mean_max_price, std_max_price, 3)\n",
    "    )]\n",
    "\n",
    "    # Reset the index after the filter operation\n",
    "    df_filtered_no_max_outliers = df_filtered_no_max_outliers.reset_index(drop=True)\n",
    "    # Calculate mean and standard deviation for the minimum bid prices across the DataFrame\n",
    "    min_bid_prices = [min(bid[0] for bid in bids_list) for bids_list in df_filtered_no_max_outliers['bids'] if bids_list]\n",
    "    mean_min_price = np.mean(min_bid_prices)\n",
    "    std_min_price = np.std(min_bid_prices)\n",
    "\n",
    "    # Apply the outlier removal function to each row\n",
    "    df_filtered_no_min_outliers = df_filtered_no_max_outliers[df_filtered_no_max_outliers['bids'].apply(\n",
    "        lambda bids: remove_min_bid_outliers(bids, mean_min_price, std_min_price, 3)\n",
    "    )]\n",
    "\n",
    "    # Reset index\n",
    "    df_filtered_no_min_outliers.reset_index(drop=True, inplace=True)\n",
    "    # Calculate mean and standard deviation for minimum ask prices\n",
    "    min_ask_prices = [min(ask[0] for ask in asks_list) for asks_list in df_filtered['asks'] if asks_list]\n",
    "    mean_min_ask_price = np.mean(min_ask_prices)\n",
    "    std_min_ask_price = np.std(min_ask_prices)\n",
    "\n",
    "    # Apply the function to filter rows based on minimum ask price outliers\n",
    "    df_filtered_no_min_ask_outliers = df_filtered_no_min_outliers[df_filtered_no_min_outliers['asks'].apply(\n",
    "        lambda asks: remove_min_ask_outliers(asks, mean_min_ask_price, std_min_ask_price, 3)\n",
    "    )]\n",
    "\n",
    "    # Reset the index after filtering\n",
    "    df_filtered_no_min_ask_outliers.reset_index(drop=True, inplace=True)\n",
    "    # Calculate mean and standard deviation for maximum ask prices\n",
    "    max_ask_prices = [max(ask[0] for ask in asks_list) for asks_list in df_filtered_no_min_ask_outliers['asks'] if asks_list]\n",
    "    mean_max_ask_price = np.mean(max_ask_prices)\n",
    "    std_max_ask_price = np.std(max_ask_prices)\n",
    "\n",
    "    # Apply the function to filter rows based on maximum ask price outliers\n",
    "    df_filtered_no_max_ask_outliers = df_filtered_no_min_ask_outliers[df_filtered_no_min_ask_outliers['asks'].apply(\n",
    "        lambda asks: remove_max_ask_outlier(asks, mean_max_ask_price, std_max_ask_price, 3)\n",
    "    )]\n",
    "\n",
    "    # Reset the index after filtering\n",
    "    df_filtered_no_max_ask_outliers.reset_index(drop=True, inplace=True)\n",
    "    # Apply the function to each row of the DataFrame and create new columns\n",
    "    df_final_filtered = df_filtered_no_max_ask_outliers.copy()\n",
    "    df_final_filtered[['bid_price1', 'bid_price2', 'bid_size1', 'bid_size2', 'ask_price1', 'ask_price2', 'ask_size1', 'ask_size2']] = df_final_filtered.apply(split_bids_asks, axis=1)\n",
    "    df_final_filtered.drop(['bids', 'asks'], axis=1, inplace=True)\n",
    "    \n",
    "    pattern = r'UoB.*?\\.txt'\n",
    "    file_name = re.findall(pattern, file_path)[0]\n",
    "    file_name = \"Clean_\" + file_name\n",
    "    \n",
    "    df_final_filtered.to_csv(file_name)"
   ]
  },
  {
   "cell_type": "code",
   "execution_count": 27,
   "id": "2dc27b7d",
   "metadata": {},
   "outputs": [],
   "source": [
    "def lob_clean_all(directory):\n",
    "    files = os.listdir(directory)\n",
    "    \n",
    "    for file in files:\n",
    "        file_path = os.path.join(directory, file)\n",
    "        lob_clean(file_path)"
   ]
  }
 ],
 "metadata": {
  "kernelspec": {
   "display_name": "Python 3 (ipykernel)",
   "language": "python",
   "name": "python3"
  },
  "language_info": {
   "codemirror_mode": {
    "name": "ipython",
    "version": 3
   },
   "file_extension": ".py",
   "mimetype": "text/x-python",
   "name": "python",
   "nbconvert_exporter": "python",
   "pygments_lexer": "ipython3",
   "version": "3.11.4"
  }
 },
 "nbformat": 4,
 "nbformat_minor": 5
}

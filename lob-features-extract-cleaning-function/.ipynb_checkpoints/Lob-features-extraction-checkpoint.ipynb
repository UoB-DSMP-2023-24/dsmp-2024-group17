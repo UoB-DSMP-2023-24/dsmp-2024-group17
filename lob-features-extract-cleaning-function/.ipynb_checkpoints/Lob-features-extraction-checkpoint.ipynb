{
 "cells": [
  {
   "cell_type": "code",
   "execution_count": 1,
   "id": "1d0f4109",
   "metadata": {},
   "outputs": [],
   "source": [
    "import pandas as pd\n",
    "import numpy as np\n",
    "import ast\n",
    "import math\n",
    "import re\n",
    "import os"
   ]
  },
  {
   "cell_type": "code",
   "execution_count": 2,
   "id": "d327d69b",
   "metadata": {},
   "outputs": [],
   "source": [
    "# Feature extraction\n",
    "# Function to calculate first WAP\n",
    "def calc_wap1(df):\n",
    "    wap = (df['bid_price1'] * df['ask_size1'] + df['ask_price1'] * df['bid_size1']) / (df['bid_size1'] + df['ask_size1'])\n",
    "    return wap\n",
    "\n",
    "# Function to calculate second WAP\n",
    "def calc_wap2(df):\n",
    "    wap = (df['bid_price2'] * df['ask_size2'] + df['ask_price2'] * df['bid_size2']) / (df['bid_size2'] + df['ask_size2'])\n",
    "    return wap"
   ]
  },
  {
   "cell_type": "code",
   "execution_count": 3,
   "id": "1aecc618",
   "metadata": {},
   "outputs": [],
   "source": [
    "#Function used to calculate log return\n",
    "def log_return(series):\n",
    "    # 确保Series中没有空值，并且所有输入都转换为浮点数\n",
    "    series = series.dropna().astype(float)\n",
    "    return np.log(series).diff()\n",
    "\n",
    "\n",
    "# Calculate the realized volatility\n",
    "def realized_volatility(series):\n",
    "    return np.sqrt(np.sum(series**2))"
   ]
  },
  {
   "cell_type": "code",
   "execution_count": 4,
   "id": "6f207661",
   "metadata": {},
   "outputs": [],
   "source": [
    "def Feature_extraction(df):\n",
    "    data_dict = {}\n",
    "    # Calculate Wap\n",
    "    data_dict['wap1'] = calc_wap1(df)\n",
    "    data_dict['wap2'] = calc_wap2(df)\n",
    "    data_dict['log_return1'] = np.log(data_dict['wap1']) - np.log(data_dict['wap1'].shift(1))\n",
    "    data_dict['log_return2'] = np.log(data_dict['wap2']) - np.log(data_dict['wap2'].shift(1))\n",
    "    # Calculate wap balance\n",
    "    data_dict['wap_balance'] = abs(data_dict['wap1'] - data_dict['wap2'])\n",
    "    # Calculate spread\n",
    "    data_dict['price_spread'] = (df['ask_price1'] - df['bid_price1']) / ((df['ask_price1'] + df['bid_price1']) / 2)\n",
    "    data_dict['price_spread2'] = (df['ask_price2'] - df['bid_price2']) / ((df['ask_price2'] + df['bid_price2']) / 2)\n",
    "    data_dict['bid_spread'] = df['bid_price1'] - df['bid_price2']\n",
    "    data_dict['ask_spread'] = df['ask_price1'] - df['ask_price2']\n",
    "    #Calculate the spread relative to the average price\n",
    "    data_dict[\"bid_ask_spread\"] = abs(data_dict['bid_spread'] - data_dict['ask_spread'])\n",
    "    data_dict['total_volume'] = (df['ask_size1'] + df['ask_size2']) + (df['bid_size1'] + df['bid_size2'])\n",
    "    #To quantify the current pressure imbalance between buyers and sellers\n",
    "    data_dict['volume_imbalance'] = abs((df['ask_size1'] + df['ask_size2']) - (df['bid_size1'] + df['bid_size2']))\n",
    "\n",
    "     # Dict for aggregations\n",
    "    create_feature_dict = {\n",
    "        'wap1': [np.sum, np.mean, np.std],\n",
    "        'wap2': [np.sum, np.mean, np.std],\n",
    "        'log_return1': [np.sum, realized_volatility, np.mean, np.std],\n",
    "        'log_return2': [np.sum, realized_volatility, np.mean, np.std],\n",
    "        'wap_balance': [np.sum, np.mean, np.std],\n",
    "        'price_spread':[np.sum, np.mean, np.std],\n",
    "        'price_spread2':[np.sum, np.mean, np.std],\n",
    "        'bid_spread':[np.sum, np.mean, np.std],\n",
    "        'ask_spread':[np.sum, np.mean, np.std],\n",
    "        'total_volume':[np.sum, np.mean, np.std],\n",
    "        'volume_imbalance':[np.sum, np.mean, np.std],\n",
    "        \"bid_ask_spread\":[np.sum, np.mean, np.std],\n",
    "    }\n",
    "    \n",
    "    \n",
    "    name_dict = {\n",
    "            np.sum:\"sum\",\n",
    "            np.mean:\"mean\",\n",
    "            np.std:\"std\",\n",
    "            realized_volatility:\"realized_volatility\"\n",
    "    }\n",
    "    \n",
    "\n",
    "\n",
    "#     # Define window size and step size\n",
    "#     window_size = 100  # Window size in seconds\n",
    "#     step_size = 10     # Window step size in seconds\n",
    "\n",
    "#     # Create a new column 'window_id' to represent the window to which each timestamp belongs\n",
    "#     df['window_id'] = df['timestamp'].apply(lambda x: x // step_size)\n",
    "\n",
    "#     # Grouping and aggregation calculations.\n",
    "#     aggregated_df = df.groupby('window_id').agg(create_feature_dict)\n",
    "\n",
    "#     # The window ID can be used to calculate the start and end timestamps of each window\n",
    "#     aggregated_df['window_start'] = aggregated_df.index * step_size\n",
    "#     aggregated_df['window_end'] = aggregated_df['window_start'] + window_size\n",
    "    \n",
    "#     # Reset index so window ID is a column\n",
    "#     aggregated_df.reset_index(drop=True, inplace=True)\n",
    "\n",
    "#     df['timestamp'] = pd.to_datetime(df['timestamp']) # 我把这行注释掉了\n",
    "\n",
    "\n",
    " # print(data_dict)\n",
    "    df_t_1 = {}\n",
    "    for key,value in create_feature_dict.items():\n",
    "        for func in value:\n",
    "            df_t_1[key+\"_\"+name_dict[func]] = func(data_dict[key])\n",
    "\n",
    "    # print(df_new.index)\n",
    "    return pd.DataFrame([df_t_1])\n",
    "\n",
    "\n",
    "\n"
   ]
  },
  {
   "cell_type": "code",
   "execution_count": 5,
   "id": "5508c5d1",
   "metadata": {},
   "outputs": [],
   "source": [
    "def sequentially(df_base):\n",
    "    lines = []\n",
    "    max_ts = math.floor(df_base['timestamp'].max())\n",
    "    interval = 600\n",
    "    interval_step = [100,200,300,400,500]\n",
    "    for j in range(0,max_ts,10):\n",
    "        df_t = df_base[(df_base['timestamp'] >= j) & (df_base['timestamp'] < j+interval)]\n",
    "        # print(df_t)\n",
    "        df_total = Feature_extraction(df_t.copy())\n",
    "        # print(df_total)\n",
    "        df_total['range'] = \"{}-{}\".format(j,j+600)\n",
    "            # # print(df_sum)\n",
    "        lines.append(df_total)\n",
    "        for step in interval_step:\n",
    "            df_step = df_t[(df_t['timestamp'] >= j) & (df_t['timestamp'] < j+step)]\n",
    "\n",
    "            df_step_sum = Feature_extraction(df_step.copy())\n",
    "            df_step_sum['range'] = \"{}-{}\".format(j,j+step)\n",
    "            lines.append(df_step_sum)\n",
    "\n",
    "    result = pd.concat(lines,axis=0)\n",
    "    \n",
    "    return result\n"
   ]
  },
  {
   "cell_type": "code",
   "execution_count": 6,
   "id": "99eb1d62",
   "metadata": {},
   "outputs": [],
   "source": [
    "def transaction_quantity(df):\n",
    "    transaction_quantity= df['Total_Size'].diff().fillna(0).abs()\n",
    "    return transaction_quantity\n",
    "    \n",
    "def transaction(df, start_time, end_time):\n",
    "    # Assuming 'Time' is a column in your dataframe indicating the time of each transaction\n",
    "    filtered_df = df[(df['Time'] >= start_time) & (df['Time'] < end_time)]\n",
    "    transaction = filtered_df['Total_Size'].diff() != 0\n",
    "    return transaction"
   ]
  },
  {
   "cell_type": "code",
   "execution_count": 7,
   "id": "928faf87",
   "metadata": {},
   "outputs": [],
   "source": [
    "def tape_Feature_extraction(df, start_time, end_time):\n",
    "    transaction_quantity_series = transaction_quantity(df)\n",
    "    transaction_series = transaction(df, start_time, end_time)\n",
    "    create_feature_dict = {\n",
    "        'transaction_quantity_sum': transaction_quantity_series.sum(),\n",
    "        'transaction_count_sum': transaction_series.sum(),\n",
    "    }\n",
    "    return pd.DataFrame([create_feature_dict])"
   ]
  },
  {
   "cell_type": "code",
   "execution_count": 8,
   "id": "a094f0ba",
   "metadata": {},
   "outputs": [],
   "source": [
    "def Feature_extraction_one(file_path,file_path0):\n",
    "    # Lob data\n",
    "    df = pd.read_csv(file_path)\n",
    "    sequentially(df).to_csv(\"temp.csv\",index=False)\n",
    "    df=pd.read_csv(\"temp.csv\")\n",
    "    # Set loop value\n",
    "    cycle_values = [600, 100, 200, 300, 400, 500]\n",
    "\n",
    "    # Generate a cyclic sequence whose length is the same as the number of rows of df\n",
    "    num_rows = len(df)\n",
    "    cycle_sequence = cycle_values * (num_rows // len(cycle_values)) + cycle_values[:num_rows % len(cycle_values)]\n",
    "\n",
    "    # Assign loop sequence to 'range' column\n",
    "    df['range'] = cycle_sequence\n",
    "\n",
    "    # Add an index to each range loop\n",
    "    df['index'] = (df.index // 6) + 1\n",
    "    #Merge rows with the same index into one row\n",
    "    pivot_df = df.pivot(index='index', columns='range')\n",
    "\n",
    "    num_rows = len(pivot_df)\n",
    "\n",
    "    # Create a looping timeline that increments every 10\n",
    "    start_time = [(i * 10) % 600 for i in range(num_rows)]\n",
    "    end_time = [600 + i * 10 for i in range(num_rows)]\n",
    "\n",
    "    # Add timeline to DataFrame\n",
    "    pivot_df['start_time'] = start_time\n",
    "    pivot_df['end_time'] = end_time\n",
    "    \n",
    "    # Tape data\n",
    "    tape_data=pd.read_csv(\"file_path0\")\n",
    "    sequentially(tape_data).to_csv(\"temp.csv\",index=False)\n",
    "    df=pd.read_csv(\"temp.csv\")\n",
    "    \n",
    "    cycle_values = [600, 100, 200, 300, 400, 500]\n",
    "\n",
    "    # Generate a cyclic sequence whose length is the same as the number of rows of df\n",
    "    num_rows = len(df)\n",
    "    cycle_sequence = cycle_values * (num_rows // len(cycle_values)) + cycle_values[:num_rows % len(cycle_values)]\n",
    "\n",
    "    # Assign loop sequence to 'range' column\n",
    "    df['range'] = cycle_sequence\n",
    "\n",
    "    # Add an index to each range loop\n",
    "    df['index'] = (df.index // 6) + 1\n",
    "\n",
    "    #Merge rows with the same index into one row\n",
    "    pivot_df1 = df.pivot(index='index', columns='range')\n",
    "    \n",
    "    df_combined = pd.concat([pivot_df1, pivot_df], axis=1)\n",
    "    \n",
    "    pattern = r'Clean_UoB_Set.*?\\.txt'\n",
    "    file_name = re.findall(pattern, file_path)[0]\n",
    "    file_name = \"Featured_\" + file_name\n",
    "    \n",
    "    df_combined.to_csv(file_name,index=False)"
   ]
  },
  {
   "cell_type": "code",
   "execution_count": 27,
   "id": "588b5efa",
   "metadata": {},
   "outputs": [],
   "source": [
    "def lob_extract_features_all(directory0,directory1):\n",
    "    files_lob = os.listdir(directory0)\n",
    "    files_tape = os.listdir(directory1)\n",
    "    \n",
    "    for file in zip(files_lob,files_tape):\n",
    "        file_path0 = os.path.join(directory0, file[0])\n",
    "        file_path1 = os.path.join(directory1, file[1])\n",
    "        print(file_path0)\n",
    "        print(file_path1)\n",
    "        Feature_extraction_one(file_path0,file_path1)"
   ]
  },
  {
   "cell_type": "code",
   "execution_count": 28,
   "id": "16c51804",
   "metadata": {},
   "outputs": [
    {
     "name": "stdout",
     "output_type": "stream",
     "text": [
      "C:/Users/yiquan/Desktop/mini-project/JPMorgan_Set01/LOBs_test\\Clean_UoB_Set01_2025-01-02LOBs.txt\n",
      "C:/Users/yiquan/Desktop/mini-project/JPMorgan_Set01/Tapes_test\\Clean_UoB_Set01_2025-01-02tapes.csv\n"
     ]
    },
    {
     "ename": "FileNotFoundError",
     "evalue": "[Errno 2] No such file or directory: 'file_path0'",
     "output_type": "error",
     "traceback": [
      "\u001b[1;31m---------------------------------------------------------------------------\u001b[0m",
      "\u001b[1;31mFileNotFoundError\u001b[0m                         Traceback (most recent call last)",
      "Cell \u001b[1;32mIn[28], line 1\u001b[0m\n\u001b[1;32m----> 1\u001b[0m lob_extract_features_all(\u001b[38;5;124m'\u001b[39m\u001b[38;5;124mC:/Users/yiquan/Desktop/mini-project/JPMorgan_Set01/LOBs_test\u001b[39m\u001b[38;5;124m'\u001b[39m,\u001b[38;5;124m'\u001b[39m\u001b[38;5;124mC:/Users/yiquan/Desktop/mini-project/JPMorgan_Set01/Tapes_test\u001b[39m\u001b[38;5;124m'\u001b[39m)\n",
      "Cell \u001b[1;32mIn[27], line 10\u001b[0m, in \u001b[0;36mlob_extract_features_all\u001b[1;34m(directory0, directory1)\u001b[0m\n\u001b[0;32m      8\u001b[0m \u001b[38;5;28mprint\u001b[39m(file_path0)\n\u001b[0;32m      9\u001b[0m \u001b[38;5;28mprint\u001b[39m(file_path1)\n\u001b[1;32m---> 10\u001b[0m Feature_extraction_one(file_path0,file_path1)\n",
      "Cell \u001b[1;32mIn[8], line 32\u001b[0m, in \u001b[0;36mFeature_extraction_one\u001b[1;34m(file_path, file_path0)\u001b[0m\n\u001b[0;32m     29\u001b[0m pivot_df[\u001b[38;5;124m'\u001b[39m\u001b[38;5;124mend_time\u001b[39m\u001b[38;5;124m'\u001b[39m] \u001b[38;5;241m=\u001b[39m end_time\n\u001b[0;32m     31\u001b[0m \u001b[38;5;66;03m# Tape data\u001b[39;00m\n\u001b[1;32m---> 32\u001b[0m tape_data\u001b[38;5;241m=\u001b[39mpd\u001b[38;5;241m.\u001b[39mread_csv(\u001b[38;5;124m\"\u001b[39m\u001b[38;5;124mfile_path0\u001b[39m\u001b[38;5;124m\"\u001b[39m)\n\u001b[0;32m     33\u001b[0m sequentially(tape_data)\u001b[38;5;241m.\u001b[39mto_csv(\u001b[38;5;124m\"\u001b[39m\u001b[38;5;124mtemp.csv\u001b[39m\u001b[38;5;124m\"\u001b[39m,index\u001b[38;5;241m=\u001b[39m\u001b[38;5;28;01mFalse\u001b[39;00m)\n\u001b[0;32m     34\u001b[0m df\u001b[38;5;241m=\u001b[39mpd\u001b[38;5;241m.\u001b[39mread_csv(\u001b[38;5;124m\"\u001b[39m\u001b[38;5;124mtemp.csv\u001b[39m\u001b[38;5;124m\"\u001b[39m)\n",
      "File \u001b[1;32m~\\anaconda3\\Lib\\site-packages\\pandas\\io\\parsers\\readers.py:948\u001b[0m, in \u001b[0;36mread_csv\u001b[1;34m(filepath_or_buffer, sep, delimiter, header, names, index_col, usecols, dtype, engine, converters, true_values, false_values, skipinitialspace, skiprows, skipfooter, nrows, na_values, keep_default_na, na_filter, verbose, skip_blank_lines, parse_dates, infer_datetime_format, keep_date_col, date_parser, date_format, dayfirst, cache_dates, iterator, chunksize, compression, thousands, decimal, lineterminator, quotechar, quoting, doublequote, escapechar, comment, encoding, encoding_errors, dialect, on_bad_lines, delim_whitespace, low_memory, memory_map, float_precision, storage_options, dtype_backend)\u001b[0m\n\u001b[0;32m    935\u001b[0m kwds_defaults \u001b[38;5;241m=\u001b[39m _refine_defaults_read(\n\u001b[0;32m    936\u001b[0m     dialect,\n\u001b[0;32m    937\u001b[0m     delimiter,\n\u001b[1;32m   (...)\u001b[0m\n\u001b[0;32m    944\u001b[0m     dtype_backend\u001b[38;5;241m=\u001b[39mdtype_backend,\n\u001b[0;32m    945\u001b[0m )\n\u001b[0;32m    946\u001b[0m kwds\u001b[38;5;241m.\u001b[39mupdate(kwds_defaults)\n\u001b[1;32m--> 948\u001b[0m \u001b[38;5;28;01mreturn\u001b[39;00m _read(filepath_or_buffer, kwds)\n",
      "File \u001b[1;32m~\\anaconda3\\Lib\\site-packages\\pandas\\io\\parsers\\readers.py:611\u001b[0m, in \u001b[0;36m_read\u001b[1;34m(filepath_or_buffer, kwds)\u001b[0m\n\u001b[0;32m    608\u001b[0m _validate_names(kwds\u001b[38;5;241m.\u001b[39mget(\u001b[38;5;124m\"\u001b[39m\u001b[38;5;124mnames\u001b[39m\u001b[38;5;124m\"\u001b[39m, \u001b[38;5;28;01mNone\u001b[39;00m))\n\u001b[0;32m    610\u001b[0m \u001b[38;5;66;03m# Create the parser.\u001b[39;00m\n\u001b[1;32m--> 611\u001b[0m parser \u001b[38;5;241m=\u001b[39m TextFileReader(filepath_or_buffer, \u001b[38;5;241m*\u001b[39m\u001b[38;5;241m*\u001b[39mkwds)\n\u001b[0;32m    613\u001b[0m \u001b[38;5;28;01mif\u001b[39;00m chunksize \u001b[38;5;129;01mor\u001b[39;00m iterator:\n\u001b[0;32m    614\u001b[0m     \u001b[38;5;28;01mreturn\u001b[39;00m parser\n",
      "File \u001b[1;32m~\\anaconda3\\Lib\\site-packages\\pandas\\io\\parsers\\readers.py:1448\u001b[0m, in \u001b[0;36mTextFileReader.__init__\u001b[1;34m(self, f, engine, **kwds)\u001b[0m\n\u001b[0;32m   1445\u001b[0m     \u001b[38;5;28mself\u001b[39m\u001b[38;5;241m.\u001b[39moptions[\u001b[38;5;124m\"\u001b[39m\u001b[38;5;124mhas_index_names\u001b[39m\u001b[38;5;124m\"\u001b[39m] \u001b[38;5;241m=\u001b[39m kwds[\u001b[38;5;124m\"\u001b[39m\u001b[38;5;124mhas_index_names\u001b[39m\u001b[38;5;124m\"\u001b[39m]\n\u001b[0;32m   1447\u001b[0m \u001b[38;5;28mself\u001b[39m\u001b[38;5;241m.\u001b[39mhandles: IOHandles \u001b[38;5;241m|\u001b[39m \u001b[38;5;28;01mNone\u001b[39;00m \u001b[38;5;241m=\u001b[39m \u001b[38;5;28;01mNone\u001b[39;00m\n\u001b[1;32m-> 1448\u001b[0m \u001b[38;5;28mself\u001b[39m\u001b[38;5;241m.\u001b[39m_engine \u001b[38;5;241m=\u001b[39m \u001b[38;5;28mself\u001b[39m\u001b[38;5;241m.\u001b[39m_make_engine(f, \u001b[38;5;28mself\u001b[39m\u001b[38;5;241m.\u001b[39mengine)\n",
      "File \u001b[1;32m~\\anaconda3\\Lib\\site-packages\\pandas\\io\\parsers\\readers.py:1705\u001b[0m, in \u001b[0;36mTextFileReader._make_engine\u001b[1;34m(self, f, engine)\u001b[0m\n\u001b[0;32m   1703\u001b[0m     \u001b[38;5;28;01mif\u001b[39;00m \u001b[38;5;124m\"\u001b[39m\u001b[38;5;124mb\u001b[39m\u001b[38;5;124m\"\u001b[39m \u001b[38;5;129;01mnot\u001b[39;00m \u001b[38;5;129;01min\u001b[39;00m mode:\n\u001b[0;32m   1704\u001b[0m         mode \u001b[38;5;241m+\u001b[39m\u001b[38;5;241m=\u001b[39m \u001b[38;5;124m\"\u001b[39m\u001b[38;5;124mb\u001b[39m\u001b[38;5;124m\"\u001b[39m\n\u001b[1;32m-> 1705\u001b[0m \u001b[38;5;28mself\u001b[39m\u001b[38;5;241m.\u001b[39mhandles \u001b[38;5;241m=\u001b[39m get_handle(\n\u001b[0;32m   1706\u001b[0m     f,\n\u001b[0;32m   1707\u001b[0m     mode,\n\u001b[0;32m   1708\u001b[0m     encoding\u001b[38;5;241m=\u001b[39m\u001b[38;5;28mself\u001b[39m\u001b[38;5;241m.\u001b[39moptions\u001b[38;5;241m.\u001b[39mget(\u001b[38;5;124m\"\u001b[39m\u001b[38;5;124mencoding\u001b[39m\u001b[38;5;124m\"\u001b[39m, \u001b[38;5;28;01mNone\u001b[39;00m),\n\u001b[0;32m   1709\u001b[0m     compression\u001b[38;5;241m=\u001b[39m\u001b[38;5;28mself\u001b[39m\u001b[38;5;241m.\u001b[39moptions\u001b[38;5;241m.\u001b[39mget(\u001b[38;5;124m\"\u001b[39m\u001b[38;5;124mcompression\u001b[39m\u001b[38;5;124m\"\u001b[39m, \u001b[38;5;28;01mNone\u001b[39;00m),\n\u001b[0;32m   1710\u001b[0m     memory_map\u001b[38;5;241m=\u001b[39m\u001b[38;5;28mself\u001b[39m\u001b[38;5;241m.\u001b[39moptions\u001b[38;5;241m.\u001b[39mget(\u001b[38;5;124m\"\u001b[39m\u001b[38;5;124mmemory_map\u001b[39m\u001b[38;5;124m\"\u001b[39m, \u001b[38;5;28;01mFalse\u001b[39;00m),\n\u001b[0;32m   1711\u001b[0m     is_text\u001b[38;5;241m=\u001b[39mis_text,\n\u001b[0;32m   1712\u001b[0m     errors\u001b[38;5;241m=\u001b[39m\u001b[38;5;28mself\u001b[39m\u001b[38;5;241m.\u001b[39moptions\u001b[38;5;241m.\u001b[39mget(\u001b[38;5;124m\"\u001b[39m\u001b[38;5;124mencoding_errors\u001b[39m\u001b[38;5;124m\"\u001b[39m, \u001b[38;5;124m\"\u001b[39m\u001b[38;5;124mstrict\u001b[39m\u001b[38;5;124m\"\u001b[39m),\n\u001b[0;32m   1713\u001b[0m     storage_options\u001b[38;5;241m=\u001b[39m\u001b[38;5;28mself\u001b[39m\u001b[38;5;241m.\u001b[39moptions\u001b[38;5;241m.\u001b[39mget(\u001b[38;5;124m\"\u001b[39m\u001b[38;5;124mstorage_options\u001b[39m\u001b[38;5;124m\"\u001b[39m, \u001b[38;5;28;01mNone\u001b[39;00m),\n\u001b[0;32m   1714\u001b[0m )\n\u001b[0;32m   1715\u001b[0m \u001b[38;5;28;01massert\u001b[39;00m \u001b[38;5;28mself\u001b[39m\u001b[38;5;241m.\u001b[39mhandles \u001b[38;5;129;01mis\u001b[39;00m \u001b[38;5;129;01mnot\u001b[39;00m \u001b[38;5;28;01mNone\u001b[39;00m\n\u001b[0;32m   1716\u001b[0m f \u001b[38;5;241m=\u001b[39m \u001b[38;5;28mself\u001b[39m\u001b[38;5;241m.\u001b[39mhandles\u001b[38;5;241m.\u001b[39mhandle\n",
      "File \u001b[1;32m~\\anaconda3\\Lib\\site-packages\\pandas\\io\\common.py:863\u001b[0m, in \u001b[0;36mget_handle\u001b[1;34m(path_or_buf, mode, encoding, compression, memory_map, is_text, errors, storage_options)\u001b[0m\n\u001b[0;32m    858\u001b[0m \u001b[38;5;28;01melif\u001b[39;00m \u001b[38;5;28misinstance\u001b[39m(handle, \u001b[38;5;28mstr\u001b[39m):\n\u001b[0;32m    859\u001b[0m     \u001b[38;5;66;03m# Check whether the filename is to be opened in binary mode.\u001b[39;00m\n\u001b[0;32m    860\u001b[0m     \u001b[38;5;66;03m# Binary mode does not support 'encoding' and 'newline'.\u001b[39;00m\n\u001b[0;32m    861\u001b[0m     \u001b[38;5;28;01mif\u001b[39;00m ioargs\u001b[38;5;241m.\u001b[39mencoding \u001b[38;5;129;01mand\u001b[39;00m \u001b[38;5;124m\"\u001b[39m\u001b[38;5;124mb\u001b[39m\u001b[38;5;124m\"\u001b[39m \u001b[38;5;129;01mnot\u001b[39;00m \u001b[38;5;129;01min\u001b[39;00m ioargs\u001b[38;5;241m.\u001b[39mmode:\n\u001b[0;32m    862\u001b[0m         \u001b[38;5;66;03m# Encoding\u001b[39;00m\n\u001b[1;32m--> 863\u001b[0m         handle \u001b[38;5;241m=\u001b[39m \u001b[38;5;28mopen\u001b[39m(\n\u001b[0;32m    864\u001b[0m             handle,\n\u001b[0;32m    865\u001b[0m             ioargs\u001b[38;5;241m.\u001b[39mmode,\n\u001b[0;32m    866\u001b[0m             encoding\u001b[38;5;241m=\u001b[39mioargs\u001b[38;5;241m.\u001b[39mencoding,\n\u001b[0;32m    867\u001b[0m             errors\u001b[38;5;241m=\u001b[39merrors,\n\u001b[0;32m    868\u001b[0m             newline\u001b[38;5;241m=\u001b[39m\u001b[38;5;124m\"\u001b[39m\u001b[38;5;124m\"\u001b[39m,\n\u001b[0;32m    869\u001b[0m         )\n\u001b[0;32m    870\u001b[0m     \u001b[38;5;28;01melse\u001b[39;00m:\n\u001b[0;32m    871\u001b[0m         \u001b[38;5;66;03m# Binary mode\u001b[39;00m\n\u001b[0;32m    872\u001b[0m         handle \u001b[38;5;241m=\u001b[39m \u001b[38;5;28mopen\u001b[39m(handle, ioargs\u001b[38;5;241m.\u001b[39mmode)\n",
      "\u001b[1;31mFileNotFoundError\u001b[0m: [Errno 2] No such file or directory: 'file_path0'"
     ]
    }
   ],
   "source": [
    "lob_extract_features_all('C:/Users/yiquan/Desktop/mini-project/JPMorgan_Set01/LOBs_test','C:/Users/yiquan/Desktop/mini-project/JPMorgan_Set01/Tapes_test')"
   ]
  },
  {
   "cell_type": "code",
   "execution_count": 19,
   "id": "f819ddc4",
   "metadata": {},
   "outputs": [
    {
     "data": {
      "text/plain": [
       "['Clean_UoB_Set01_2025-01-02LOBs.txt',\n",
       " 'Clean_UoB_Set01_2025-01-03LOBs.txt',\n",
       " 'Clean_UoB_Set01_2025-01-06LOBs.txt']"
      ]
     },
     "execution_count": 19,
     "metadata": {},
     "output_type": "execute_result"
    }
   ],
   "source": []
  },
  {
   "cell_type": "code",
   "execution_count": 20,
   "id": "6221fba8",
   "metadata": {},
   "outputs": [
    {
     "data": {
      "text/plain": [
       "['Clean_UoB_Set01_2025-01-02tapes.csv',\n",
       " 'Clean_UoB_Set01_2025-01-03tapes.csv',\n",
       " 'Clean_UoB_Set01_2025-01-06tapes.csv']"
      ]
     },
     "execution_count": 20,
     "metadata": {},
     "output_type": "execute_result"
    }
   ],
   "source": []
  },
  {
   "cell_type": "code",
   "execution_count": 21,
   "id": "ddbe8e25",
   "metadata": {},
   "outputs": [
    {
     "data": {
      "text/plain": [
       "<zip at 0x1b1051128c0>"
      ]
     },
     "execution_count": 21,
     "metadata": {},
     "output_type": "execute_result"
    }
   ],
   "source": [
    "zip(os.listdir('C:/Users/yiquan/Desktop/mini-project/JPMorgan_Set01/LOBs_test'),os.listdir('C:/Users/yiquan/Desktop/mini-project/JPMorgan_Set01/Tapes_test'))"
   ]
  },
  {
   "cell_type": "code",
   "execution_count": null,
   "id": "a31de697",
   "metadata": {},
   "outputs": [],
   "source": []
  }
 ],
 "metadata": {
  "kernelspec": {
   "display_name": "Python 3 (ipykernel)",
   "language": "python",
   "name": "python3"
  },
  "language_info": {
   "codemirror_mode": {
    "name": "ipython",
    "version": 3
   },
   "file_extension": ".py",
   "mimetype": "text/x-python",
   "name": "python",
   "nbconvert_exporter": "python",
   "pygments_lexer": "ipython3",
   "version": "3.11.4"
  }
 },
 "nbformat": 4,
 "nbformat_minor": 5
}

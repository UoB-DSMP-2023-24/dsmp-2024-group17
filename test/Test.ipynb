{
 "cells": [
  {
   "cell_type": "code",
   "execution_count": null,
   "id": "ed5eed3e-2622-4e32-900e-85d70a53c520",
   "metadata": {},
   "outputs": [],
   "source": [
    "from stable_baselines3 import PPO\n",
    "from stable_baselines3 import A2C\n",
    "import pandas as pd\n",
    "import gymnasium as gym\n",
    "import gym_market\n",
    "import os"
   ]
  },
  {
   "cell_type": "code",
   "execution_count": null,
   "id": "a553ce58-7e64-4326-81b1-8c57c36c0c4b",
   "metadata": {},
   "outputs": [],
   "source": [
    "PPO_models = os.listdir(\"./models/PPO model/\")\n",
    "A2C_models = os.listdir(\"./models/A2C model/\")\n",
    "lob_test_files = os.listdir(\"./data/test/lobs/\")\n",
    "tape_test_file = os.listdir(\"./data/test/tapes/\")"
   ]
  },
  {
   "cell_type": "code",
   "execution_count": null,
   "id": "c77ba4c3-4a2a-439b-ae2e-ccba297813ca",
   "metadata": {
    "scrolled": true
   },
   "outputs": [],
   "source": [
    "PPO_model_records = pd.DataFrame(columns=['data','profit','model type'])\n",
    "\n",
    "for model in PPO_models:\n",
    "    model_path = os.path.join(\"./models/PPO model/\", model)\n",
    "    PPO_model = PPO.load(model_path)\n",
    "\n",
    "    for lob_file,tape_file in zip(lob_test_files,tape_test_file):\n",
    "        lob_data_dir = os.path.join(\"./data/test/lobs/\",lob_file)\n",
    "        tape_data_dir = os.path.join(\"./data/test/tapes/\",tape_file)\n",
    "        env = gym.make('Market-v0',lob_data_dir = lob_data_dir, tape_data_dir = tape_data_dir,render_mode = 'human')\n",
    "        for n in range(10):\n",
    "            obs, info = env.reset()\n",
    "            for i in range(3000):\n",
    "                action, _states = PPO_model.predict(obs)\n",
    "    \n",
    "                obs, rewards, terminated, truncated, info = env.step(action)\n",
    "                if i == 2999:\n",
    "                    record = [lob_file,info['balance']-10000,model]\n",
    "                if terminated or truncated:\n",
    "                    obs, info = env.reset()\n",
    "    "
   ]
  },
  {
   "cell_type": "code",
   "execution_count": null,
   "id": "f015d895-436c-423c-85ba-3f283a70146c",
   "metadata": {},
   "outputs": [],
   "source": [
    "PPO_model_records.to_csv(\"PPO_model_records.csv\")"
   ]
  },
  {
   "cell_type": "code",
   "execution_count": null,
   "id": "866ee6a5-a098-4176-a334-de1e21de2713",
   "metadata": {},
   "outputs": [],
   "source": [
    "A2C_model_records = pd.DataFrame(columns=['data','profit','model type'])\n",
    "\n",
    "for model in A2C_models:\n",
    "    model_path = os.path.join(\"./models/A2C model/\", model)\n",
    "    A2C_model = A2C.load(model_path)\n",
    "\n",
    "    for lob_file,tape_file in zip(lob_test_files,tape_test_file):\n",
    "        lob_data_dir = os.path.join(\"./data/test/lobs/\",lob_file)\n",
    "        tape_data_dir = os.path.join(\"./data/test/tapes/\",tape_file)\n",
    "        env = gym.make('Market-v0',lob_data_dir = lob_data_dir, tape_data_dir = tape_data_dir,render_mode = 'human')\n",
    "        for n in range(10):\n",
    "            obs, info = env.reset()\n",
    "            for i in range(3000):\n",
    "                action, _states = A2C_model.predict(obs)\n",
    "    \n",
    "                obs, rewards, terminated, truncated, info = env.step(action)\n",
    "                if i == 2999:\n",
    "                    record = [lob_file,info['balance']-10000,model]\n",
    "                if terminated or truncated:\n",
    "                    obs, info = env.reset()\n",
    "    "
   ]
  },
  {
   "cell_type": "code",
   "execution_count": null,
   "id": "c40917fa-443c-4741-b4db-e043d166ada8",
   "metadata": {},
   "outputs": [],
   "source": []
  }
 ],
 "metadata": {
  "kernelspec": {
   "display_name": "mini_project",
   "language": "python",
   "name": "mini_project"
  },
  "language_info": {
   "codemirror_mode": {
    "name": "ipython",
    "version": 3
   },
   "file_extension": ".py",
   "mimetype": "text/x-python",
   "name": "python",
   "nbconvert_exporter": "python",
   "pygments_lexer": "ipython3",
   "version": "3.8.19"
  }
 },
 "nbformat": 4,
 "nbformat_minor": 5
}

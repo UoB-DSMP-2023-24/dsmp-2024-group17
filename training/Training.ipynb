{
 "cells": [
  {
   "cell_type": "code",
   "execution_count": 1,
   "id": "b09af272-a230-4066-a5d6-b35585756b50",
   "metadata": {},
   "outputs": [
    {
     "ename": "ModuleNotFoundError",
     "evalue": "No module named 'gym_market'",
     "output_type": "error",
     "traceback": [
      "\u001b[1;31m---------------------------------------------------------------------------\u001b[0m",
      "\u001b[1;31mModuleNotFoundError\u001b[0m                       Traceback (most recent call last)",
      "Cell \u001b[1;32mIn[1], line 5\u001b[0m\n\u001b[0;32m      3\u001b[0m \u001b[38;5;28;01mimport\u001b[39;00m \u001b[38;5;21;01mnumpy\u001b[39;00m \u001b[38;5;28;01mas\u001b[39;00m \u001b[38;5;21;01mnp\u001b[39;00m\n\u001b[0;32m      4\u001b[0m \u001b[38;5;28;01mimport\u001b[39;00m \u001b[38;5;21;01mgymnasium\u001b[39;00m \u001b[38;5;28;01mas\u001b[39;00m \u001b[38;5;21;01mgym\u001b[39;00m\n\u001b[1;32m----> 5\u001b[0m \u001b[38;5;28;01mimport\u001b[39;00m \u001b[38;5;21;01mgym_market\u001b[39;00m\n\u001b[0;32m      7\u001b[0m \u001b[38;5;28;01mfrom\u001b[39;00m \u001b[38;5;21;01mstable_baselines3\u001b[39;00m\u001b[38;5;21;01m.\u001b[39;00m\u001b[38;5;21;01mcommon\u001b[39;00m\u001b[38;5;21;01m.\u001b[39;00m\u001b[38;5;21;01mmonitor\u001b[39;00m \u001b[38;5;28;01mimport\u001b[39;00m Monitor\n\u001b[0;32m      8\u001b[0m \u001b[38;5;28;01mfrom\u001b[39;00m \u001b[38;5;21;01mstable_baselines3\u001b[39;00m\u001b[38;5;21;01m.\u001b[39;00m\u001b[38;5;21;01mcommon\u001b[39;00m\u001b[38;5;21;01m.\u001b[39;00m\u001b[38;5;21;01mresults_plotter\u001b[39;00m \u001b[38;5;28;01mimport\u001b[39;00m load_results, ts2xy\n",
      "\u001b[1;31mModuleNotFoundError\u001b[0m: No module named 'gym_market'"
     ]
    }
   ],
   "source": [
    "import os\n",
    "\n",
    "import numpy as np\n",
    "import gymnasium as gym\n",
    "import gym_market\n",
    "\n",
    "from stable_baselines3.common.monitor import Monitor\n",
    "from stable_baselines3.common.results_plotter import load_results, ts2xy\n",
    "from stable_baselines3.common.callbacks import BaseCallback"
   ]
  },
  {
   "cell_type": "code",
   "execution_count": null,
   "id": "d58b34c4-d4ee-441e-a70c-214a9117bb48",
   "metadata": {},
   "outputs": [],
   "source": [
    "class SaveOnBestTrainingRewardCallback(BaseCallback):\n",
    "    \"\"\"\n",
    "    Callback for saving a model (the check is done every ``check_freq`` steps)\n",
    "    based on the training reward (in practice, we recommend using ``EvalCallback``).\n",
    "\n",
    "    :param check_freq: (int)\n",
    "    :param log_dir: (str) Path to the folder where the model will be saved.\n",
    "      It must contains the file created by the ``Monitor`` wrapper.\n",
    "    :param verbose: (int)\n",
    "    \"\"\"\n",
    "\n",
    "    def __init__(self, check_freq: int, log_dir: str, verbose=1):\n",
    "        super().__init__(verbose)\n",
    "        self.check_freq = check_freq\n",
    "        self.log_dir = log_dir\n",
    "        self.save_path = os.path.join(log_dir, \"models\")\n",
    "        self.best_model_save_path = os.path.join(log_dir, \"best_model\")\n",
    "        self.best_mean_reward = -np.inf\n",
    "\n",
    "    def _init_callback(self) -> None:\n",
    "        # Create folder if needed\n",
    "        if self.save_path is not None:\n",
    "            os.makedirs(self.save_path, exist_ok=True)\n",
    "\n",
    "    def _on_step(self) -> bool:\n",
    "        if self.n_calls % self.check_freq == 0:\n",
    "            self.model.save(os.path.join(self.save_path, f\"model_step_{self.n_calls}.zip\"))\n",
    "            print(f'checkpoint: {os.path.join(self.save_path, f\"model_step_{self.n_calls}.zip\")}')\n",
    "\n",
    "            # Retrieve training reward\n",
    "            x, y = ts2xy(load_results(self.log_dir), \"timesteps\")\n",
    "            if len(x) > 0:\n",
    "                # Mean training reward over the last 100 episodes\n",
    "                mean_reward = np.mean(y[-96:])\n",
    "                if self.verbose > 0:\n",
    "                    print(f\"Num timesteps: {self.num_timesteps}\")\n",
    "                    print(\n",
    "                        f\"Best mean reward: {self.best_mean_reward:.2f} - Last mean reward per episode: {mean_reward:.2f}\"\n",
    "                    )\n",
    "\n",
    "                # New best model, you could save the agent here\n",
    "                if mean_reward > self.best_mean_reward:\n",
    "                    self.best_mean_reward = mean_reward\n",
    "                    # Example for saving best model\n",
    "                    if self.verbose > 0:\n",
    "                        print(f\"Saving new best model to {self.best_model_save_path}.zip\")\n",
    "                    self.model.save(self.best_model_save_path)\n",
    "\n",
    "        return True"
   ]
  },
  {
   "cell_type": "code",
   "execution_count": null,
   "id": "5a148fa4-9197-4422-8054-d2089fe0ae87",
   "metadata": {},
   "outputs": [],
   "source": [
    "log_dir = \"./log/\"\n",
    "os.makedirs(log_dir, exist_ok=True)"
   ]
  },
  {
   "cell_type": "code",
   "execution_count": null,
   "id": "b030282e-5414-4b12-a5b9-6f16c23974c3",
   "metadata": {},
   "outputs": [],
   "source": [
    "lobs_trainset_dir = \"./data/lobs/\"\n",
    "tapes_trainset_dir = \"./data/tapes/\""
   ]
  },
  {
   "cell_type": "code",
   "execution_count": null,
   "id": "700a69b0-0be8-4cd3-9c5d-460a7b997c8a",
   "metadata": {},
   "outputs": [],
   "source": [
    "lobs_trainset_files = os.listdir(lobs_trainset_dir)\n",
    "tapes_trainset_files = os.listdir(tapes_trainset_dir)"
   ]
  },
  {
   "cell_type": "markdown",
   "id": "269bc341-7cb3-44d8-ae5e-f2d67c2a95b6",
   "metadata": {},
   "source": [
    "## PPO"
   ]
  },
  {
   "cell_type": "code",
   "execution_count": 2,
   "id": "c5c5a0d1-c497-48d7-894a-90b59312aba7",
   "metadata": {},
   "outputs": [],
   "source": [
    "from stable_baselines3 import PPO"
   ]
  },
  {
   "cell_type": "code",
   "execution_count": null,
   "id": "ae94256b-90f4-4791-bacf-3cf4e1356395",
   "metadata": {},
   "outputs": [],
   "source": [
    "callback = SaveOnBestTrainingRewardCallback(check_freq=3000, log_dir=log_dir)\n",
    "\n",
    "flag = 0\n",
    "for i in range(100):\n",
    "    for lob_data_dir,tape_data_dir in zip(lobs_trainset_files,tapes_trainset_files):\n",
    "        lob_data_path = os.path.join(lobs_trainset_dir, lob_data_dir)\n",
    "        tape_data_path = os.path.join(tapes_trainset_dir, tape_data_dir)\n",
    "        \n",
    "        env = gym.make('Market-v0',lob_data_dir=lob_data_path,tape_data_dir=tape_data_path,render_mode = 'human')\n",
    "    \n",
    "        env = Monitor(env, log_dir)\n",
    "    \n",
    "        if flag == 0:\n",
    "            model = PPO(\"MlpPolicy\", env, verbose=1,n_steps=1000,batch_size=50)\n",
    "        else:\n",
    "            model.set_env(env)\n",
    "    \n",
    "        \n",
    "        model.learn(total_timesteps=3000,callback=callback)\n",
    "        env.close()"
   ]
  },
  {
   "cell_type": "code",
   "execution_count": null,
   "id": "38729391-79e2-4811-af46-3863bb16d5bf",
   "metadata": {},
   "outputs": [],
   "source": []
  }
 ],
 "metadata": {
  "kernelspec": {
   "display_name": "mini_project",
   "language": "python",
   "name": "mini_project"
  },
  "language_info": {
   "codemirror_mode": {
    "name": "ipython",
    "version": 3
   },
   "file_extension": ".py",
   "mimetype": "text/x-python",
   "name": "python",
   "nbconvert_exporter": "python",
   "pygments_lexer": "ipython3",
   "version": "3.8.19"
  }
 },
 "nbformat": 4,
 "nbformat_minor": 5
}
